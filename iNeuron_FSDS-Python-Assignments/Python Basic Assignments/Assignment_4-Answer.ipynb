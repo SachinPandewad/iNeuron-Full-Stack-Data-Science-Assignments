{
 "cells": [
  {
   "cell_type": "markdown",
   "id": "d9b5c0b9",
   "metadata": {},
   "source": [
    "Q1. What exactly is [ ]?\n",
    "\n",
    "**Ans:**  [ ] is The empty list value, which is a list value that contains no items. This is similar to how ' ' OR \" \" is the empty\n",
    "    string value."
   ]
  },
  {
   "cell_type": "markdown",
   "id": "36541387",
   "metadata": {},
   "source": [
    "Q2. In a list of values stored in a variable called spam, how would you assign the value 'hello' as the third value? \n",
    "    (Assume [2, 4, 6, 8, 10] are in spam.)\n",
    "    \n",
    "**Ans:** spam[2]='hello'"
   ]
  },
  {
   "cell_type": "code",
   "execution_count": 1,
   "id": "f69191b1",
   "metadata": {},
   "outputs": [
    {
     "name": "stdout",
     "output_type": "stream",
     "text": [
      "answer of Q2\n",
      "[2, 4, 6, 8, 10]\n",
      "[2, 4, 'hello', 8, 10]\n"
     ]
    }
   ],
   "source": [
    "print(\"answer of Q2\")\n",
    "spam=[2,4,6,8,10]\n",
    "print(spam)\n",
    "spam[2]='hello' \n",
    "print(spam)"
   ]
  },
  {
   "cell_type": "markdown",
   "id": "b8c5efb9",
   "metadata": {},
   "source": [
    "### Let's pretend the spam includes the list ['a','b','c',d'] for the next three queries."
   ]
  },
  {
   "cell_type": "markdown",
   "id": "ab049608",
   "metadata": {},
   "source": [
    "What is the value of spam[int(int('3' * 2) / 11)]?\n",
    "\n",
    "**Answer:** indexing start from [o, 1, 2,....n.] The equation spam[int(int('3' * 2) / 11)] results 3. In the Order of list d is \n",
    "            on 3rd position So the answer is **d**\n",
    "    \n",
    "        here list = ['a','b','c','d']\n",
    "    \n",
    "    order of list = ['0','1','2','3']\n",
    "    \n",
    "    "
   ]
  },
  {
   "cell_type": "code",
   "execution_count": 2,
   "id": "1bb3dbb0",
   "metadata": {},
   "outputs": [
    {
     "name": "stdout",
     "output_type": "stream",
     "text": [
      "-> d\n"
     ]
    }
   ],
   "source": [
    "spam=['a','b','c','d']\n",
    "print(\"->\",spam[int(int('3'*2)//11)])"
   ]
  },
  {
   "cell_type": "markdown",
   "id": "b31ff6b8",
   "metadata": {},
   "source": [
    "Q3. What is the value of spam[-1]?\n",
    "\n",
    "**Answer:** Reverse indexing start from right side to left side.\n",
    "\n",
    "             list =  ['a', 'b','c','d']\n",
    "    order of list = [ -4 , -3 , -2, -1"
   ]
  },
  {
   "cell_type": "code",
   "execution_count": 3,
   "id": "44139e05",
   "metadata": {},
   "outputs": [
    {
     "name": "stdout",
     "output_type": "stream",
     "text": [
      "spam[-1] = d\n"
     ]
    }
   ],
   "source": [
    "\n",
    "spam = ['a', 'b','c','d']\n",
    "print(f'spam[-1] = {spam[-1]}')"
   ]
  },
  {
   "cell_type": "markdown",
   "id": "35d1c6fc",
   "metadata": {},
   "source": [
    "Q5. What is the value of spam[:2]?\n",
    "\n",
    "**Answer:** spam[:2] returns all elements in the list spam from 0 to 2 excluding 2"
   ]
  },
  {
   "cell_type": "code",
   "execution_count": 4,
   "id": "889a78f0",
   "metadata": {},
   "outputs": [
    {
     "name": "stdout",
     "output_type": "stream",
     "text": [
      "spam[:2] = ['a', 'b']\n"
     ]
    }
   ],
   "source": [
    "spam = ['a', 'b','c','d']\n",
    "print(f'spam[:2] = {spam[:2]}')"
   ]
  },
  {
   "cell_type": "markdown",
   "id": "aa6d78ac",
   "metadata": {},
   "source": [
    "### Let's pretend bacon has the list [3.14,'cat',11,'cat',True] for the next three question"
   ]
  },
  {
   "cell_type": "markdown",
   "id": "48b2fca8",
   "metadata": {},
   "source": [
    "Q6. What is the value of bacon.index('cat')?\n",
    "\n",
    "**Answer:** The value of bacon.index('cat') is 1."
   ]
  },
  {
   "cell_type": "code",
   "execution_count": 5,
   "id": "b389771d",
   "metadata": {
    "scrolled": true
   },
   "outputs": [
    {
     "name": "stdout",
     "output_type": "stream",
     "text": [
      "bacon.index('cat') = 1\n"
     ]
    }
   ],
   "source": [
    "bacon = [3.14,'cat',11,'cat',True]\n",
    "print(f\"bacon.index('cat') = {bacon.index('cat')}\")"
   ]
  },
  {
   "cell_type": "markdown",
   "id": "11fbe0dc",
   "metadata": {},
   "source": [
    "Q7. How does bacon.append(99) change the look of the list value in bacon?\n",
    "\n",
    "**Answer:**  The 'append' method is used to add new elements at the end of the list."
   ]
  },
  {
   "cell_type": "code",
   "execution_count": 6,
   "id": "d1ed73b8",
   "metadata": {},
   "outputs": [
    {
     "name": "stdout",
     "output_type": "stream",
     "text": [
      "[3.14, 'cat', 11, 'cat', True]\n",
      "[3.14, 'cat', 11, 'cat', True, 99]\n"
     ]
    }
   ],
   "source": [
    "print(bacon)\n",
    "bacon.append(99) #it add 99 at the end of list\n",
    "print(bacon)"
   ]
  },
  {
   "cell_type": "markdown",
   "id": "e41bd59c",
   "metadata": {},
   "source": [
    "Q7. How does bacon.remove('cat') change the look of the list in bacon?\n",
    "\n",
    "**Answer:** The 'remove' methode used ro remove any element from the list"
   ]
  },
  {
   "cell_type": "code",
   "execution_count": 7,
   "id": "9c540570",
   "metadata": {},
   "outputs": [
    {
     "name": "stdout",
     "output_type": "stream",
     "text": [
      "[3.14, 'cat', 11, 'cat', True, 99]\n",
      "[3.14, 11, 'cat', True, 99]\n"
     ]
    }
   ],
   "source": [
    "print(bacon)\n",
    "bacon.remove('cat')\n",
    "print(bacon)"
   ]
  },
  {
   "cell_type": "markdown",
   "id": "42f99494",
   "metadata": {},
   "source": [
    "Q9. What are the list concatenation and list replication operators?\n",
    "\n",
    "**Answer:**  The operator for list concatenation is '+', while the operator for replication is '*'."
   ]
  },
  {
   "cell_type": "code",
   "execution_count": 8,
   "id": "19edd39e",
   "metadata": {
    "scrolled": true
   },
   "outputs": [
    {
     "name": "stdout",
     "output_type": "stream",
     "text": [
      "['a', 'b', 'c', 'x', 'y', 'z']\n",
      "['a', 'b', 'c', 'a', 'b', 'c', 'a', 'b', 'c']\n"
     ]
    }
   ],
   "source": [
    "list1 = ['a', 'b', 'c']\n",
    "list2 = ['x', 'y', 'z']\n",
    "\n",
    "print(list1 + list2)\n",
    "print(list1 * 3)"
   ]
  },
  {
   "cell_type": "markdown",
   "id": "fde57493",
   "metadata": {},
   "source": [
    "10. What is difference between the list methods append() and insert()?\n",
    "\n",
    "**Answer:** The 'append()' method add elements/values at the end of the list. And 'insert()' method add elements/values anywhere in the list."
   ]
  },
  {
   "cell_type": "code",
   "execution_count": 9,
   "id": "175f6208",
   "metadata": {},
   "outputs": [
    {
     "name": "stdout",
     "output_type": "stream",
     "text": [
      "['a', 'b', 'c', 'x', 'y', 'z']\n",
      "['a', 'b', 'c', 'bob', 'x', 'y', 'z']\n"
     ]
    }
   ],
   "source": [
    "list = ['a', 'b', 'c', 'x', 'y', ]\n",
    "list.append('z')\n",
    "print(list)\n",
    "list.insert(3, 'bob')\n",
    "print(list)"
   ]
  },
  {
   "cell_type": "markdown",
   "id": "6490e913",
   "metadata": {},
   "source": [
    "11. What are the two methods for removing items from a list?\n",
    "\n",
    "**Answer:**  the two methods for removing items from a list are 'pop()' and 'remove()'."
   ]
  },
  {
   "cell_type": "markdown",
   "id": "e570d821",
   "metadata": {},
   "source": [
    "12. Describe how list values and string values are identical.\n",
    "\n",
    "**Answer:** list values and string values are identical beacuse,\n",
    "    \n",
    "            *list and string can be passed to 'len()' function\n",
    "            \n",
    "            *Both have 'indexes' and 'slices'\n",
    "            \n",
    "            *Both used in 'for' loop \n",
    "            \n",
    "            *Both can be 'concatenated' or 'replicated'\n",
    "            \n",
    "            *Both can be used with the 'in' and 'not' in operators."
   ]
  },
  {
   "cell_type": "markdown",
   "id": "1ef7bde0",
   "metadata": {},
   "source": [
    "13. What's the difference between tuples and lists?\n",
    "**Answer:** Tuples are represented using parantheses'()' and Lists represented by Squqre brackets'[]'\n",
    "    \n",
    "            Lists are 'Mutable', 'Indexable' and 'Slicable', Tuples are 'Imutable' but 'Indexable' and 'Slicable'.\n",
    "        \n",
    "            In Lists the elements/Values can be added, removed or changed,  the tuple values/elements cannot be changed. "
   ]
  },
  {
   "cell_type": "markdown",
   "id": "ab5daea4",
   "metadata": {},
   "source": [
    "14. How do you type a tuple value that only contains the integer 42?\n",
    "\n",
    "**Answer:** To avoid consideration as a int type by python interpreter, the comma is mandatory after 42 i.e. '(42,)'."
   ]
  },
  {
   "cell_type": "code",
   "execution_count": 10,
   "id": "f411a32c",
   "metadata": {},
   "outputs": [
    {
     "name": "stdout",
     "output_type": "stream",
     "text": [
      "<class 'int'>\n",
      "<class 'tuple'>\n"
     ]
    }
   ],
   "source": [
    "tupA = (42)\n",
    "tupB = (42,)\n",
    "print(type(tupA))\n",
    "print(type(tupB))"
   ]
  },
  {
   "cell_type": "code",
   "execution_count": null,
   "id": "d55fe040",
   "metadata": {},
   "outputs": [],
   "source": [
    "15. How do you get a list value's tuple form? How do you get a tuple value's list form?\n",
    "\n",
    "**Answer:** The 'tuple()' and 'list()' functions, respectively are used to convert a list to tuple and vice versa."
   ]
  },
  {
   "cell_type": "code",
   "execution_count": null,
   "id": "b509dd83",
   "metadata": {},
   "outputs": [],
   "source": [
    "16. Variables that \"contain\" list values are not necessarily lists themselves. Instead, what do they contain?\n",
    "\n",
    "**Answer:** They contain references to list values."
   ]
  },
  {
   "cell_type": "code",
   "execution_count": null,
   "id": "54971349",
   "metadata": {},
   "outputs": [],
   "source": [
    "17. How do you distinguish between copy.copy() and copy.deepcopy()?\n",
    "\n",
    "**Answers:** The 'copy.copy()' function will do a shallow copy of a list, while the 'copy.deepcopy()' function will do a deep\n",
    "            copy of a list. That is, only 'copy.deepcopy()' will duplicate any lists inside the list."
   ]
  },
  {
   "cell_type": "code",
   "execution_count": null,
   "id": "16b1d220",
   "metadata": {},
   "outputs": [],
   "source": []
  }
 ],
 "metadata": {
  "kernelspec": {
   "display_name": "Python 3 (ipykernel)",
   "language": "python",
   "name": "python3"
  },
  "language_info": {
   "codemirror_mode": {
    "name": "ipython",
    "version": 3
   },
   "file_extension": ".py",
   "mimetype": "text/x-python",
   "name": "python",
   "nbconvert_exporter": "python",
   "pygments_lexer": "ipython3",
   "version": "3.10.9"
  }
 },
 "nbformat": 4,
 "nbformat_minor": 5
}
