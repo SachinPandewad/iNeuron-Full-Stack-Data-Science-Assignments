{
 "cells": [
  {
   "cell_type": "markdown",
   "id": "0352ec72",
   "metadata": {},
   "source": [
    "Q1. What does an empty dictionary's code look like?\n",
    "\n",
    "**Answer:** An empty is often represented by empty backets i.e. 'd = {}' or 'd = dict()'."
   ]
  },
  {
   "cell_type": "markdown",
   "id": "46a7f9fb",
   "metadata": {},
   "source": [
    "Q2. What is the value of a dictionary value with the key 'foo' and the value 42?\n",
    "\n",
    "**Answer:**  [foo:'42]"
   ]
  },
  {
   "cell_type": "code",
   "execution_count": null,
   "id": "4472a8ec",
   "metadata": {},
   "outputs": [],
   "source": [
    "Q3. What is the most significant distinction between a dictionary and a list?\n",
    "\n",
    "**Answer:** The items stored in lists are ordered and items stored are Unordered.\n",
    "    \n",
    "            Dictionaries are represented by {} and Lists are represented by [].            "
   ]
  },
  {
   "cell_type": "code",
   "execution_count": null,
   "id": "6b28aa2c",
   "metadata": {},
   "outputs": [],
   "source": [
    "Q4. What happens if you try to access spam['foo'] if spam is {'bar': 100}?\n",
    "\n",
    "**Answer:** if we try to access spam['foo'] and if spam is {'bar': 100} we will get a KeyError error i.e. 'keyError: 'foo''"
   ]
  },
  {
   "cell_type": "code",
   "execution_count": null,
   "id": "2ee0fbc9",
   "metadata": {},
   "outputs": [],
   "source": [
    "Q5. If a dictionary is stored in spam, what is the difference between the expressions 'cat' in spam and 'cat' in spam.keys()?\n",
    "\n",
    "**Answer:** There is no difference between both. The operator checks whether a value exits as a key in the dictionary or not."
   ]
  },
  {
   "cell_type": "code",
   "execution_count": null,
   "id": "c19c6ba7",
   "metadata": {},
   "outputs": [],
   "source": [
    "Q6. If a dictionary is stored in spam, what is the difference between the expressions 'cat' in spam and 'cat' in spam.values()?\n",
    "\n",
    "**Answer:** 'cat' in spam checks whether there is a 'cat' key in the dictionary, while 'cat' in spam.values() checks whether \n",
    "    \n",
    "    there is a value 'cat' for one of the keys in spam."
   ]
  },
  {
   "cell_type": "code",
   "execution_count": null,
   "id": "d21bc797",
   "metadata": {},
   "outputs": [],
   "source": [
    "Q7. What is a shortcut for the following code?\n",
    "\n",
    "if 'color' not in spam:\n",
    "    \n",
    "spam['color'] = 'black'\n",
    "\n",
    "**Answer:** spam.setdefault('color','black')\n"
   ]
  },
  {
   "cell_type": "code",
   "execution_count": null,
   "id": "6f55fdfb",
   "metadata": {},
   "outputs": [],
   "source": [
    "Q8. How do you \"pretty print\" dictionary values using which module and function?\n",
    "\n",
    "**Answer:**  we can pretty print a dictionary using three functions\n",
    "\n",
    "    1. by using pprint() function of pprint module\n",
    "    \n",
    "    2. by using dumps() method of json module\n",
    "    \n",
    "    3. by using dumps() method of yaml module\n"
   ]
  },
  {
   "cell_type": "code",
   "execution_count": 1,
   "id": "b4895b8d",
   "metadata": {},
   "outputs": [
    {
     "name": "stdout",
     "output_type": "stream",
     "text": [
      "Printing using print() function\n",
      " [{'Name': 'John', 'Age': '23', 'Residence': {'Country': 'USA', 'City': 'New York'}}, {'Name': 'Jose', 'Age': '44', 'Residence': {'Country': 'Spain', 'City': 'Madrid'}}, {'Name': 'Anne', 'Age': '29', 'Residence': {'Country': 'UK', 'City': 'England'}}, {'Name': 'Lee', 'Age': '35', 'Residence': {'Country': 'Japan', 'City': 'Osaka'}}]\n",
      "----------------------------------------------------------------------\n",
      "Printing using pprint() funciton\n",
      "[{'Age': '23',\n",
      "  'Name': 'John',\n",
      "  'Residence': {'City': 'New York', 'Country': 'USA'}},\n",
      " {'Age': '44',\n",
      "  'Name': 'Jose',\n",
      "  'Residence': {'City': 'Madrid', 'Country': 'Spain'}},\n",
      " {'Age': '29',\n",
      "  'Name': 'Anne',\n",
      "  'Residence': {'City': 'England', 'Country': 'UK'}},\n",
      " {'Age': '35',\n",
      "  'Name': 'Lee',\n",
      "  'Residence': {'City': 'Osaka', 'Country': 'Japan'}}]\n",
      "----------------------------------------------------------------------\n",
      "Printing using dumps() method\n",
      " [\n",
      "    {\n",
      "        \"Name\": \"John\",\n",
      "        \"Age\": \"23\",\n",
      "        \"Residence\": {\n",
      "            \"Country\": \"USA\",\n",
      "            \"City\": \"New York\"\n",
      "        }\n",
      "    },\n",
      "    {\n",
      "        \"Name\": \"Jose\",\n",
      "        \"Age\": \"44\",\n",
      "        \"Residence\": {\n",
      "            \"Country\": \"Spain\",\n",
      "            \"City\": \"Madrid\"\n",
      "        }\n",
      "    },\n",
      "    {\n",
      "        \"Name\": \"Anne\",\n",
      "        \"Age\": \"29\",\n",
      "        \"Residence\": {\n",
      "            \"Country\": \"UK\",\n",
      "            \"City\": \"England\"\n",
      "        }\n",
      "    },\n",
      "    {\n",
      "        \"Name\": \"Lee\",\n",
      "        \"Age\": \"35\",\n",
      "        \"Residence\": {\n",
      "            \"Country\": \"Japan\",\n",
      "            \"City\": \"Osaka\"\n",
      "        }\n",
      "    }\n",
      "]\n",
      "----------------------------------------------------------------------\n",
      "Printing using dump() method\n",
      " - Age: '23'\n",
      "  Name: John\n",
      "  Residence:\n",
      "    City: New York\n",
      "    Country: USA\n",
      "- Age: '44'\n",
      "  Name: Jose\n",
      "  Residence:\n",
      "    City: Madrid\n",
      "    Country: Spain\n",
      "- Age: '29'\n",
      "  Name: Anne\n",
      "  Residence:\n",
      "    City: England\n",
      "    Country: UK\n",
      "- Age: '35'\n",
      "  Name: Lee\n",
      "  Residence:\n",
      "    City: Osaka\n",
      "    Country: Japan\n",
      "\n"
     ]
    }
   ],
   "source": [
    "adict = [\n",
    "  {'Name': 'John', 'Age': '23', 'Residence': {'Country':'USA', 'City': 'New York'}},\n",
    "  {'Name': 'Jose', 'Age': '44', 'Residence': {'Country':'Spain', 'City': 'Madrid'}},\n",
    "  {'Name': 'Anne', 'Age': '29', 'Residence': {'Country':'UK', 'City': 'England'}},\n",
    "  {'Name': 'Lee', 'Age': '35', 'Residence': {'Country':'Japan', 'City': 'Osaka'}}\n",
    "]\n",
    "\n",
    "print('Printing using print() function\\n',adict)\n",
    "print('-'*70)\n",
    "import pprint\n",
    "print('Printing using pprint() funciton')\n",
    "pprint.pprint(adict)\n",
    "print('-'*70)\n",
    "import json\n",
    "dump = json.dumps(adict, indent=4)\n",
    "print('Printing using dumps() method\\n', dump)\n",
    "print('-'*70)\n",
    "import yaml\n",
    "dump = yaml.dump(adict)\n",
    "print('Printing using dump() method\\n', dump)"
   ]
  }
 ],
 "metadata": {
  "kernelspec": {
   "display_name": "Python 3 (ipykernel)",
   "language": "python",
   "name": "python3"
  },
  "language_info": {
   "codemirror_mode": {
    "name": "ipython",
    "version": 3
   },
   "file_extension": ".py",
   "mimetype": "text/x-python",
   "name": "python",
   "nbconvert_exporter": "python",
   "pygments_lexer": "ipython3",
   "version": "3.10.9"
  }
 },
 "nbformat": 4,
 "nbformat_minor": 5
}
