{
 "cells": [
  {
   "cell_type": "markdown",
   "id": "7034cc79",
   "metadata": {},
   "source": [
    "Q1.Why are functions advantageous to have in your programs?\n",
    "\n",
    "**Ans:** With the help of functions rewriting the same logic or code again and again in a program can be avoided. \n",
    "        In a single Program, Python functions can call anywhere and also multiple times. It will be easy to track large\n",
    "        Python program when it is divided into multiple functions."
   ]
  },
  {
   "cell_type": "markdown",
   "id": "38616e41",
   "metadata": {},
   "source": [
    "Q2. When does the code in a function run: when it's specified or when it's called?\n",
    "    \n",
    "**Ans:** The code in a function Run/Executes when the function is called, not when the function specified. "
   ]
  },
  {
   "cell_type": "markdown",
   "id": "b00d8a48",
   "metadata": {},
   "source": [
    "Q3. What statement creates a function?\n",
    "\n",
    "**Ans:** The 'def' keyword creates a function.\n",
    "            \n",
    "   The **syntax** to declare a function is:\n",
    "\n",
    "   def function_name(arguments):\n",
    "       \n",
    "       #function body\n",
    "\n",
    "       return"
   ]
  },
  {
   "cell_type": "markdown",
   "id": "0b143b7d",
   "metadata": {},
   "source": [
    "Q4. What is the difference between a function and a function call?\n",
    "\n",
    "**Ans:** Function is a piece of code which enhanced the reusability and modularity of program. \n",
    "    It means that piece of code need not be written again.\n",
    "    'Function Call' means calling the function. if function is not called, there is no use of that function."
   ]
  },
  {
   "cell_type": "markdown",
   "id": "f5f09f31",
   "metadata": {},
   "source": [
    "Q5. How many global scopes are there in a Python program? How many local scopes?\n",
    "\n",
    "**Ans:** There is one global scope in python and a local scope is created whenever a function is called.\n",
    "    "
   ]
  },
  {
   "cell_type": "markdown",
   "id": "ebaa3e86",
   "metadata": {},
   "source": [
    "Q6. What happens to variables in a local scope when the function call returns?\n",
    "\n",
    "**Ans:** When the function call returns the local scope are destroyed and variables in it are forgotten."
   ]
  },
  {
   "cell_type": "markdown",
   "id": "dbd56a50",
   "metadata": {},
   "source": [
    "Q7. What is the concept of a return value? Is it possible to have a return value in an expression?\n",
    "\n",
    "**Ans:** A return value is the evaluated value that a function call evaluates. Like any value, the return value\n",
    "    can be used in an expression."
   ]
  },
  {
   "cell_type": "markdown",
   "id": "aafb13bb",
   "metadata": {},
   "source": [
    "Q8. If a function does not have a return statement, what is the return value of a call to that function?\n",
    "\n",
    "**Ans:** If a function does not have a return statement, the return value of a call to that function is **None**"
   ]
  },
  {
   "cell_type": "markdown",
   "id": "777d3c6d",
   "metadata": {},
   "source": [
    "Q9. How do you make a function variable refer to the global variable?\n",
    "\n",
    "**Ans:** By using the global keyword the global variable inside a function can be created. "
   ]
  },
  {
   "cell_type": "markdown",
   "id": "926a8eb8",
   "metadata": {},
   "source": [
    "Q10. What is the data type of None?\n",
    "\n",
    "**Ans:** The data type of None is NoneType..The None keyword is used to define a null value, \n",
    "    or no value at all. None is not the same as 0, False, or an empty string. "
   ]
  },
  {
   "cell_type": "markdown",
   "id": "014b8bd4",
   "metadata": {},
   "source": [
    "Q11. What does the sentence import areallyourpetsnamederic do? \n",
    "\n",
    "**Ans:** That import statement imports a module named areallyourpetsnamederic."
   ]
  },
  {
   "cell_type": "markdown",
   "id": "07a59f4e",
   "metadata": {},
   "source": [
    "Q12. If you had a bacon() feature in a spam module, what would you call it after importing spam?\n",
    "\n",
    "**Ans:** A function named bacon() inside a module named spam is called spam. bacon() after importing in spam."
   ]
  },
  {
   "cell_type": "markdown",
   "id": "1aac6eb5",
   "metadata": {},
   "source": [
    "Q13. What can you do to save a programme from crashing if it encounters an error?\n",
    "\n",
    "**Ans:** Place the line of code that might cause an error in a try clause and use except block to handle the error."
   ]
  },
  {
   "cell_type": "markdown",
   "id": "984cef16",
   "metadata": {},
   "source": [
    "\n",
    "Q14. What is the purpose of the try clause? What is the purpose of the except clause?\n",
    "\n",
    "**Ans:** The try block lets you test a block of code for errors. The except block lets you handle the error."
   ]
  }
 ],
 "metadata": {
  "kernelspec": {
   "display_name": "Python 3 (ipykernel)",
   "language": "python",
   "name": "python3"
  },
  "language_info": {
   "codemirror_mode": {
    "name": "ipython",
    "version": 3
   },
   "file_extension": ".py",
   "mimetype": "text/x-python",
   "name": "python",
   "nbconvert_exporter": "python",
   "pygments_lexer": "ipython3",
   "version": "3.10.9"
  }
 },
 "nbformat": 4,
 "nbformat_minor": 5
}
