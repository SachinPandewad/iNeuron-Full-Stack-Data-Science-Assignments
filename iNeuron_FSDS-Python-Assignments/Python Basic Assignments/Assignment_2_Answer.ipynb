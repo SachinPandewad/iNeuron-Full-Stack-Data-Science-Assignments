{
 "cells": [
  {
   "cell_type": "markdown",
   "id": "5c4ff36b",
   "metadata": {},
   "source": [
    "**Q1. What are the two values of the Boolean data type? How do you write them?**\n",
    "\n",
    "Ans: The Boolean data type stores TRUE or FALSE data values as a singlebyte. Boolean data type is declared with the bool \n",
    "    keyword and can only take the values true or false\n"
   ]
  },
  {
   "cell_type": "markdown",
   "id": "8bfe863d",
   "metadata": {},
   "source": [
    "**Q2. What are the three different types of Boolean operators?**\n",
    "\n",
    "**Ans**\n",
    "    There are three logical operators used to compare values. Theses are operator are AND,OR, NOT. \n"
   ]
  },
  {
   "cell_type": "markdown",
   "id": "9e6758c4",
   "metadata": {},
   "source": [
    "**Q3. Make a list of each Boolean operator's truth tables (i.e., every possible combination of Boolean values for the operator and what it evaluates).\n",
    "Ans**\n",
    "\n",
    "                        AND                                  OR                               NOT\n",
    "                True AND True is True               True OR True is True               Not True is False\n",
    "                True AND False is False             True OR False is True              Not False is True\n",
    "                False AND True is False             False OR True is True\n",
    "                False AND False is False            False OR False is False\n",
    "\n",
    "\n",
    "\n",
    "                                                True =1 and False = 0\n",
    "                    \n",
    "            a AND b Table                     a OR b Table                         NOT a Table\n",
    "                a     b   a AND b                    a     b   a OR b\n",
    "                0     0      0                       0     0     0                     a   NOT a\n",
    "                0     1      0                       0     1     1                     0     1\n",
    "                1     0      0                       1     0     1                     1     0\n",
    "                1     1      1                       1     1     1\n",
    "\n"
   ]
  },
  {
   "cell_type": "markdown",
   "id": "11556b53",
   "metadata": {},
   "source": [
    "**Q4. What are the values of the following expressions?**"
   ]
  },
  {
   "cell_type": "code",
   "execution_count": 3,
   "id": "725c34ee",
   "metadata": {},
   "outputs": [
    {
     "name": "stdout",
     "output_type": "stream",
     "text": [
      "Answer of Q4.\n",
      "False\n",
      "False\n",
      "True\n",
      "False\n",
      "False\n",
      "True\n"
     ]
    }
   ],
   "source": [
    "print(\"Answer of Q4.\")\n",
    "print((5 > 4) and (3 == 5))\n",
    "print((not (5 > 4)))\n",
    "print(((5 > 4) or (3 == 5)))\n",
    "print((not ((5 > 4) or (3 == 5))))\n",
    "print((True and True) and (True == False))\n",
    "print((not False) or (not True))\n"
   ]
  },
  {
   "cell_type": "markdown",
   "id": "64ea0773",
   "metadata": {},
   "source": [
    "**Q5. What are the six comparison operators?**\n",
    "\n",
    "**Ans:**\n",
    "    The six Comparison operators are\n",
    "        <     Less Than                                 <=    Less Than Equal To\n",
    "        >     Greater Than                              >=    Greater Than Equal To\n",
    "        ==    Equal To                                  !=    Not Equal To\n",
    "       \n",
    "                    \n",
    "                   "
   ]
  },
  {
   "cell_type": "markdown",
   "id": "27d266aa",
   "metadata": {},
   "source": [
    "**Q6. How do you tell the difference between the equal to and assignment operators? Describe a condition and when you would use one.**\n",
    "\n",
    "**Ans:**\n",
    "    \n",
    "    Assignment Operator (=)\n",
    "\n",
    "    The = is an assignment operator, while == and === are called equality operators.\n",
    "    In mathematics = is an equal to operator. In programming = is an assignment operator, which means that it\n",
    "    assigns a value to a variable.\n",
    "    \n",
    "    Equality Operator (==)\n",
    "\n",
    "    The operator that compares two values is written like this: ==. It is called an equality operator.\n",
    "    The equality operator is one of the many comparison operators that are used in logical and conditional\n",
    "    statements.\n",
    "    The equality operator returns true or false based on whether the operands (the values being compared) are equal."
   ]
  },
  {
   "cell_type": "markdown",
   "id": "13b2ae37",
   "metadata": {},
   "source": [
    "**Q7. Identify the three blocks in this code:**\n",
    "    \n",
    "spam = 0\n",
    "\n",
    "if spam == 10:\n",
    "    \n",
    "print('eggs')\n",
    "\n",
    "if spam > 5:\n",
    "    \n",
    "print('bacon')\n",
    "\n",
    "else:\n",
    "    \n",
    "print('ham')\n",
    "\n",
    "print('spam')\n",
    "\n",
    "print('spam')\n"
   ]
  },
  {
   "cell_type": "code",
   "execution_count": 4,
   "id": "4d060046",
   "metadata": {},
   "outputs": [
    {
     "name": "stdout",
     "output_type": "stream",
     "text": [
      "Ansewer or Q.7\n",
      "ham\n",
      "spam\n",
      "spam\n"
     ]
    }
   ],
   "source": [
    "\n",
    "\n",
    "print ('Ansewer or Q.7')\n",
    "spam = 0\n",
    "if spam == 10:\n",
    "    print('eggs')\n",
    "if spam > 5:\n",
    "    print('bacon')\n",
    "else:\n",
    "    print('ham')\n",
    "    print('spam')\n",
    "    print('spam')"
   ]
  },
  {
   "cell_type": "markdown",
   "id": "77b42aa8",
   "metadata": {},
   "source": [
    "**Q8. Write code that prints Hello if 1 is stored in spam, prints Howdy if 2 is stored in spam, and prints Greetings!\n",
    "if anything else is stored in spam.**"
   ]
  },
  {
   "cell_type": "code",
   "execution_count": 9,
   "id": "8e00badf",
   "metadata": {
    "scrolled": true
   },
   "outputs": [
    {
     "name": "stdout",
     "output_type": "stream",
     "text": [
      "Enter a number: 1\n",
      "Hello\n",
      "Want to enter again? (y/n): y\n",
      "Enter a number: 2\n",
      "Howdy\n",
      "Want to enter again? (y/n): y\n",
      "Enter a number: 4\n",
      "Greetings!\n",
      "Want to enter again? (y/n): n\n"
     ]
    }
   ],
   "source": [
    "while True:\n",
    "    spam = int(input(\"Enter a number: \"))\n",
    "    if spam == 1:\n",
    "        print(\"Hello\")\n",
    "    elif spam == 2:\n",
    "        print(\"Howdy\")\n",
    "    else:\n",
    "        print(\"Greetings!\")\n",
    "        \n",
    "    find_again = input(\"Want to enter again? (y/n): \")\n",
    "    if find_again.lower() != \"y\":\n",
    "        break"
   ]
  },
  {
   "cell_type": "markdown",
   "id": "ef05ab7b",
   "metadata": {},
   "source": [
    "**Q9. If your programme is stuck in an endless loop, what keys you’ll press?**\n",
    "\n",
    "**Ans:**  \n",
    "    An infinite loop is a loop that runs indefinitely and it can stop with **CTRL + C.**"
   ]
  },
  {
   "cell_type": "markdown",
   "id": "937f68c2",
   "metadata": {},
   "source": [
    "**Q10. How can you tell the difference between break and continue?**\n",
    "\n",
    "**Ans:**\n",
    "    \n",
    "**Break:** A break statement in Python alters the flow of a loop by terminating it once a specified condition is met.\n",
    "\n",
    "**Continue:** The continue statement in Python is used to skip the remaining code inside a loop for the current iteration only."
   ]
  },
  {
   "cell_type": "code",
   "execution_count": 9,
   "id": "3623e648",
   "metadata": {},
   "outputs": [
    {
     "name": "stdout",
     "output_type": "stream",
     "text": [
      "Answer of Q10\n",
      "0 1 2 3 4 5 6 7 range Breaked\n"
     ]
    }
   ],
   "source": [
    "print(\"Answer of Q10\")\n",
    "# use of break\n",
    "for i in range(15):\n",
    "    if(i==8):\n",
    "        break\n",
    "    print (i, end=\" \")\n",
    "print('range Breaked')"
   ]
  },
  {
   "cell_type": "code",
   "execution_count": 7,
   "id": "65b62a15",
   "metadata": {},
   "outputs": [
    {
     "name": "stdout",
     "output_type": "stream",
     "text": [
      "Answer of Q10\n",
      "0 1 2 3 4 5 6 7 9 10 11 12 13 14 "
     ]
    }
   ],
   "source": [
    "print(\"Answer of Q10\")\n",
    "#use of  continue\n",
    "for i in range(15):\n",
    "    if(i==8):\n",
    "        continue\n",
    "    print (i, end=\" \")"
   ]
  },
  {
   "cell_type": "markdown",
   "id": "4c5b983f",
   "metadata": {},
   "source": [
    "**Q11. In a for loop, what is the difference between range (10), range (0, 10), and range (0, 10, 1)?**"
   ]
  },
  {
   "cell_type": "code",
   "execution_count": 10,
   "id": "4a145a7c",
   "metadata": {},
   "outputs": [
    {
     "name": "stdout",
     "output_type": "stream",
     "text": [
      "range(10)\n",
      "0 1 2 3 4 5 6 7 8 9 \n",
      "\n",
      "range(0, 10)\n",
      "0 1 2 3 4 5 6 7 8 9 \n",
      "\n",
      "range(0, 10, 1)\n",
      "0 1 2 3 4 5 6 7 8 9 \n",
      "\n",
      "The range(10) call range from 0 to 9 (but not include 10)\n",
      "The range (0,10) explicitly tells the loop to start at 0\n",
      "The range(0,10,1) explicitly tells the loop to increase the variable by 1 on each iteration\n"
     ]
    }
   ],
   "source": [
    "print(\"range(10)\")\n",
    "for i in range(10):\n",
    "    print (i, end=\" \")\n",
    "print('\\n')\n",
    "    \n",
    "print(\"range(0, 10)\")\n",
    "for i in range(0, 10):\n",
    "    print (i, end=\" \")\n",
    "print('\\n')\n",
    "\n",
    "print(\"range(0, 10, 1)\")\n",
    "for i in range(0, 10, 1):\n",
    "    print (i, end=\" \")\n",
    "print('\\n')\n",
    "\n",
    "print(\"The range(10) call range from 0 to 9 (but not include 10)\")\n",
    "print(\"The range (0,10) explicitly tells the loop to start at 0\")\n",
    "print(\"The range(0,10,1) explicitly tells the loop to increase the variable by 1 on each iteration\")\n"
   ]
  },
  {
   "cell_type": "markdown",
   "id": "4bc11e73",
   "metadata": {},
   "source": [
    "**Q11. Write a short program that prints the numbers 1 to 10 using a for loop. Then write an equivalent program that prints the \n",
    "numbers 1 to 10 using a while loop.**"
   ]
  },
  {
   "cell_type": "code",
   "execution_count": 3,
   "id": "22b804df",
   "metadata": {},
   "outputs": [
    {
     "name": "stdout",
     "output_type": "stream",
     "text": [
      "Answer of Q11\n",
      "\n",
      "\n",
      "using for loop\n",
      "1 2 3 4 5 6 7 8 9 10 \n",
      "\n",
      "Using while loop\n",
      "1 2 3 4 5 6 7 8 9 10 "
     ]
    }
   ],
   "source": [
    "print(\"Answer of Q11\")\n",
    "print('\\n')\n",
    "\n",
    "print(\"using for loop\")\n",
    "for i in range (1, 11):\n",
    "    print(i, end=\" \")\n",
    "print('\\n')\n",
    "\n",
    "print('Using while loop')\n",
    "i = 1\n",
    "while i<=10:\n",
    "    print(i, end=\" \")\n",
    "    i+= 1"
   ]
  },
  {
   "cell_type": "markdown",
   "id": "a667546a",
   "metadata": {},
   "source": [
    "**Q13.If you had a function named bacon () inside a module named spam, how would you call it after importing spam?**\n",
    "\n",
    "**Ans:**\n",
    "     That fuctin can be called with spam.bacon()"
   ]
  }
 ],
 "metadata": {
  "kernelspec": {
   "display_name": "Python 3 (ipykernel)",
   "language": "python",
   "name": "python3"
  },
  "language_info": {
   "codemirror_mode": {
    "name": "ipython",
    "version": 3
   },
   "file_extension": ".py",
   "mimetype": "text/x-python",
   "name": "python",
   "nbconvert_exporter": "python",
   "pygments_lexer": "ipython3",
   "version": "3.10.9"
  }
 },
 "nbformat": 4,
 "nbformat_minor": 5
}
