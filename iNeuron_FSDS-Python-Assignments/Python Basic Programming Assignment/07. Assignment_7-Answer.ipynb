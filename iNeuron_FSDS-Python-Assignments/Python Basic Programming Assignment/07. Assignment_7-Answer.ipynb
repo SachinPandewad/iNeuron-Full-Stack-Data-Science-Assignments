{
 "cells": [
  {
   "cell_type": "markdown",
   "id": "74b0b4e4",
   "metadata": {},
   "source": [
    "Q1. Write a Python Program to find sum of array?"
   ]
  },
  {
   "cell_type": "code",
   "execution_count": 2,
   "id": "22c27f7c",
   "metadata": {},
   "outputs": [
    {
     "name": "stdout",
     "output_type": "stream",
     "text": [
      "Number of elements in array:4\n",
      "34\n",
      "54\n",
      "65\n",
      "7\n",
      "arr = [34, 54, 65, 7]\n",
      "The sum of Array is 160\n",
      "Want to Calculate again? (y/n) :n\n"
     ]
    }
   ],
   "source": [
    "#  Python Program to find sum of array\n",
    "\n",
    "def sum_ofArray():\n",
    "    arr=[]\n",
    "    for i in range(0,n):\n",
    "       l=int(input())\n",
    "       arr.append(l)\n",
    "    print(\"arr =\",arr)\n",
    "    print(f'The sum of Array is {sum(arr)}')\n",
    "    \n",
    "\n",
    "\n",
    "while True:\n",
    "    n=int(input(\"Number of elements in array:\"))\n",
    "    sum_ofArray()\n",
    "    \n",
    "    find_again = input(\"Want to Calculate again? (y/n) :\")\n",
    "    if find_again.lower() != \"y\":\n",
    "        break\n",
    "    "
   ]
  },
  {
   "cell_type": "markdown",
   "id": "989b9324",
   "metadata": {},
   "source": [
    "Q2. Write a Python Program to find largest element in an array?"
   ]
  },
  {
   "cell_type": "code",
   "execution_count": 1,
   "id": "33f11fda",
   "metadata": {},
   "outputs": [
    {
     "name": "stdout",
     "output_type": "stream",
     "text": [
      "Number of elements in array:5\n",
      "55\n",
      "76\n",
      "87\n",
      "23\n",
      "45\n",
      "[55, 76, 87, 23, 45]\n",
      "The Largest Element in Array is 87\n",
      "Want to Calculate again? (y/n) :n\n"
     ]
    }
   ],
   "source": [
    "#  Python Program to find largest element in an array\n",
    "\n",
    "def largestElein_Array():\n",
    "    arr=[]\n",
    "    for i in range(0,n):\n",
    "       l=int(input())\n",
    "       arr.append(l)\n",
    "    print(arr)   \n",
    "    print(f\"The Largest Element in Array is {sorted(arr, reverse=True)[0]}\")\n",
    "    \n",
    "while True:\n",
    "    n=int(input(\"Number of elements in array:\"))\n",
    "    largestElein_Array()\n",
    "    \n",
    "    find_again = input(\"Want to Calculate again? (y/n) :\")\n",
    "    if find_again.lower() != \"y\":\n",
    "        break"
   ]
  },
  {
   "cell_type": "markdown",
   "id": "ae0dfba3",
   "metadata": {},
   "source": [
    "Q3. Write a Python Program for array rotation?"
   ]
  },
  {
   "cell_type": "code",
   "execution_count": null,
   "id": "26847a1e",
   "metadata": {},
   "outputs": [],
   "source": [
    " Python Program for array rotation\n",
    "\n",
    "\n",
    "def rotateArray(a,d):\n",
    "    n=len(a)\n",
    "    a[:]=a[d:n]+a[0:d]\n",
    "    return a\n",
    "\n",
    "\n",
    "def input_Array():\n",
    "    arr=[]\n",
    "    for i in range(0,n):\n",
    "       l=int(input())\n",
    "       arr.append(l)\n",
    "    print(\"arr = \", arr)\n",
    "    print(\"Rotated list is\")\n",
    "    print(rotateArray(arr,2))\n",
    "    \n",
    "    \n",
    "while True:\n",
    "    n=int(input(\"Number of elements in array:\"))\n",
    "    input_Array() \n",
    "    \n",
    "    find_again = input(\"Want to Calculate again? (y/n) :\")\n",
    "    if find_again.lower() != \"y\":\n",
    "        break"
   ]
  },
  {
   "cell_type": "markdown",
   "id": "24a8ce6e",
   "metadata": {},
   "source": [
    "Q4. Write a Python Program to Split the array and add the first part to the end?"
   ]
  },
  {
   "cell_type": "code",
   "execution_count": 8,
   "id": "b78cf655",
   "metadata": {},
   "outputs": [
    {
     "name": "stdout",
     "output_type": "stream",
     "text": [
      "enter your Array :[34, 43, 65, 123, 543]\n",
      "43 65 123 34 34 Wnat to find again?(y/n) :n\n"
     ]
    }
   ],
   "source": [
    "#  Python Program to Split the array and add the first part to the end\n",
    "\n",
    "def SplitArray(arr, n, k):\n",
    "    for i in range(0, k):\n",
    "        x = arr[0]\n",
    "        for j in range(0, n-1):\n",
    "            arr[j] = arr[j + 1]\n",
    "            arr[n-1] = x\n",
    "\n",
    "\n",
    "while True:\n",
    "    arr = eval(input(\"enter your Array :\"))\n",
    "    n = len(arr)\n",
    "    position = 1\n",
    "    SplitArray(arr, n, position)\n",
    "    for i in range(0, n):\n",
    "        print(arr[i], end = ' ')\n",
    "        \n",
    "    find_again = input(\"Wnat to find again?(y/n) :\")\n",
    "    if find_again.lower() != \"y\":\n",
    "        break"
   ]
  },
  {
   "cell_type": "markdown",
   "id": "ee25af3d",
   "metadata": {},
   "source": [
    "Q5. Write a Python Program to check if given array is Monotonic?"
   ]
  },
  {
   "cell_type": "code",
   "execution_count": 3,
   "id": "d1fe72d7",
   "metadata": {},
   "outputs": [
    {
     "name": "stdout",
     "output_type": "stream",
     "text": [
      "Number of elements in array:5\n",
      "1\n",
      "2\n",
      "3\n",
      "4\n",
      "5\n",
      "[1, 2, 3, 4, 5]\n",
      "Array [1, 2, 3, 4, 5] is Monotonic\n",
      "Want to Calculate again? (y/n) :y\n",
      "Number of elements in array:6\n",
      "4\n",
      "7\n",
      "8\n",
      "9\n",
      "10\n",
      "11\n",
      "[4, 7, 8, 9, 10, 11]\n",
      "Array [4, 7, 8, 9, 10, 11] is Monotonic\n",
      "Want to Calculate again? (y/n) :y\n",
      "Number of elements in array:6\n",
      "7\n",
      "4\n",
      "3\n",
      "21\n",
      "23\n",
      "33\n",
      "[7, 4, 3, 21, 23, 33]\n",
      "Array [7, 4, 3, 21, 23, 33] is Not Monotonic\n",
      "Want to Calculate again? (y/n) :n\n"
     ]
    }
   ],
   "source": [
    "def checkArr_Monotonic():\n",
    "    arr=[]\n",
    "    for i in range(0,n):\n",
    "       l=int(input())\n",
    "       arr.append(l)\n",
    "    print(arr)\n",
    "    if(all(arr[i]<=arr[i+1] for i in range(len(arr)-1)) or all(arr[i]>=arr[i+1] for i in range(len(arr)-1))):\n",
    "        print(f'Array {arr} is Monotonic')\n",
    "    else:\n",
    "        print(f'Array {arr} is Not Monotonic')\n",
    "    \n",
    "    \n",
    "    \n",
    "    \n",
    "while True:\n",
    "    n=int(input(\"Number of elements in array:\"))\n",
    "    checkArr_Monotonic()\n",
    "    \n",
    "    find_again = input(\"Want to Calculate again? (y/n) :\")\n",
    "    if find_again.lower() != \"y\":\n",
    "        break"
   ]
  },
  {
   "cell_type": "code",
   "execution_count": null,
   "id": "72dd241d",
   "metadata": {},
   "outputs": [],
   "source": []
  }
 ],
 "metadata": {
  "kernelspec": {
   "display_name": "Python 3 (ipykernel)",
   "language": "python",
   "name": "python3"
  },
  "language_info": {
   "codemirror_mode": {
    "name": "ipython",
    "version": 3
   },
   "file_extension": ".py",
   "mimetype": "text/x-python",
   "name": "python",
   "nbconvert_exporter": "python",
   "pygments_lexer": "ipython3",
   "version": "3.11.5"
  }
 },
 "nbformat": 4,
 "nbformat_minor": 5
}
