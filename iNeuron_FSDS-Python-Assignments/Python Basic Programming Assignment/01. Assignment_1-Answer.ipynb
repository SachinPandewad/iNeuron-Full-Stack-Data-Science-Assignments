{
 "cells": [
  {
   "cell_type": "markdown",
   "id": "8be58922",
   "metadata": {},
   "source": [
    "Q1. Write a Python program to print \"Hello Python\"?"
   ]
  },
  {
   "cell_type": "code",
   "execution_count": 1,
   "id": "faa0976d",
   "metadata": {},
   "outputs": [
    {
     "name": "stdout",
     "output_type": "stream",
     "text": [
      "Hello World\n"
     ]
    }
   ],
   "source": [
    "print(\"Hello World\")"
   ]
  },
  {
   "cell_type": "markdown",
   "id": "55c236a9",
   "metadata": {},
   "source": [
    "Q2. Write a Python program to do arithmetical operations addition and division.?"
   ]
  },
  {
   "cell_type": "code",
   "execution_count": 3,
   "id": "e527603e",
   "metadata": {},
   "outputs": [
    {
     "name": "stdout",
     "output_type": "stream",
     "text": [
      "Addition is: 15 Division is:  2.0\n"
     ]
    }
   ],
   "source": [
    "a = 10\n",
    "b = 5\n",
    "\n",
    "print(f\"Addition is:\", a+b,  \"Division is: \", a/b)"
   ]
  },
  {
   "cell_type": "markdown",
   "id": "17cfe875",
   "metadata": {},
   "source": [
    "Q3. Write a Python program to find the area of a triangle?\n",
    "\n",
    "Link:-   https://github.com/SachinPandewad/PYTHON-Find-Area/tree/main/FIND-AREA-OF-PLANE-GEOMETRY/Triangle"
   ]
  },
  {
   "cell_type": "code",
   "execution_count": 4,
   "id": "611c8e8e",
   "metadata": {},
   "outputs": [
    {
     "name": "stdout",
     "output_type": "stream",
     "text": [
      "Enter lenght of Hight perpendicular to base. hb: 12\n",
      "Enter lenght of  base. b: 8\n",
      "Area of Triangle is, A:  48.0\n",
      "Want to find again? (y/n): n\n"
     ]
    }
   ],
   "source": [
    "# A = Area, b = base length, hb = Height perp. to base\n",
    "# a = lenght of side a, c = length of side c.\n",
    "# P = Perimeter \n",
    "\n",
    "while True:\n",
    "    hb = float(input(\"Enter lenght of Hight perpendicular to base. hb: \"))\n",
    "    b =  float(input(\"Enter lenght of  base. b: \"))\n",
    "    #Taken input as Float because resulting value can be in decimal.\n",
    "    A = ((hb * b) / 2)\n",
    "    print(\"Area of Triangle is, A: \", A)\n",
    "\n",
    "    find_again = input(\"Want to find again? (y/n): \")\n",
    "    if find_again.lower() != \"y\":\n",
    "        break    "
   ]
  },
  {
   "cell_type": "code",
   "execution_count": 5,
   "id": "c29e61ec",
   "metadata": {},
   "outputs": [
    {
     "name": "stdout",
     "output_type": "stream",
     "text": [
      "Area of Triangle is, A:  48.0\n"
     ]
    }
   ],
   "source": [
    "# A = Area, b = base length, hb = Height perp. to base\n",
    "# a = lenght of side a, c = length of side c.\n",
    "# P = Perimeter\n",
    "\n",
    "hb = 12\n",
    "b = 8\n",
    "A = ((hb * b) / 2)\n",
    "print(\"Area of Triangle is, A: \", A)"
   ]
  },
  {
   "cell_type": "markdown",
   "id": "2f7e5452",
   "metadata": {},
   "source": [
    "Q4. Write a Python program to swap two variables?"
   ]
  },
  {
   "cell_type": "code",
   "execution_count": 6,
   "id": "05a18236",
   "metadata": {
    "scrolled": true
   },
   "outputs": [
    {
     "name": "stdout",
     "output_type": "stream",
     "text": [
      "Value of x: 50\n",
      "Value of y: 10\n"
     ]
    }
   ],
   "source": [
    "x = 10\n",
    "y = 50\n",
    " \n",
    "# Swapping of two variables\n",
    "# Using third variable\n",
    "temp = x\n",
    "x = y\n",
    "y = temp\n",
    " \n",
    "print(\"Value of x:\", x)\n",
    "print(\"Value of y:\", y)"
   ]
  },
  {
   "cell_type": "markdown",
   "id": "b9c28aa0",
   "metadata": {},
   "source": [
    "Q5.Write a Python program to generate a random number ?"
   ]
  },
  {
   "cell_type": "code",
   "execution_count": 1,
   "id": "fe364d04",
   "metadata": {},
   "outputs": [
    {
     "name": "stdout",
     "output_type": "stream",
     "text": [
      "9\n"
     ]
    }
   ],
   "source": [
    "import random\n",
    "\n",
    "print(random.randint(0,9))"
   ]
  },
  {
   "cell_type": "code",
   "execution_count": null,
   "id": "54997893",
   "metadata": {},
   "outputs": [],
   "source": []
  }
 ],
 "metadata": {
  "kernelspec": {
   "display_name": "Python 3 (ipykernel)",
   "language": "python",
   "name": "python3"
  },
  "language_info": {
   "codemirror_mode": {
    "name": "ipython",
    "version": 3
   },
   "file_extension": ".py",
   "mimetype": "text/x-python",
   "name": "python",
   "nbconvert_exporter": "python",
   "pygments_lexer": "ipython3",
   "version": "3.11.5"
  }
 },
 "nbformat": 4,
 "nbformat_minor": 5
}
