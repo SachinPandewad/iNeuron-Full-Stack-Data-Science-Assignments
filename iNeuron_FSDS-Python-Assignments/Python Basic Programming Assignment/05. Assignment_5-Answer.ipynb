{
 "cells": [
  {
   "cell_type": "markdown",
   "id": "7a8941cc",
   "metadata": {},
   "source": [
    "Q1.\tWrite a Python Program to Find LCM?"
   ]
  },
  {
   "cell_type": "code",
   "execution_count": 1,
   "id": "642850e5",
   "metadata": {},
   "outputs": [
    {
     "name": "stdout",
     "output_type": "stream",
     "text": [
      "Enter the first number:14\n",
      "Enter the second number:17\n",
      "LCM of given two numbers is: 238\n",
      "Want to find again? (y/n) :n\n"
     ]
    }
   ],
   "source": [
    "#  Python Program to Find LCM\n",
    "\n",
    "\n",
    "def find_LCM():\n",
    "    if(a>b):\n",
    "        min1=a\n",
    "    else:\n",
    "        min1=b\n",
    "    while(1):\n",
    "        if(min1%a==0 and min1%b==0):\n",
    "            print(\"LCM of given two numbers is:\",min1)\n",
    "            break\n",
    "        min1=min1+1\n",
    "        \n",
    "while True:\n",
    "    a =int(input(\"Enter the first number:\"))\n",
    "    b =int(input(\"Enter the second number:\"))\n",
    "    find_LCM()\n",
    "    \n",
    "    find_again = input(\"Want to find again? (y/n) :\")\n",
    "    if find_again.lower() != \"y\":\n",
    "        break"
   ]
  },
  {
   "cell_type": "markdown",
   "id": "d7cf5343",
   "metadata": {},
   "source": [
    "Q2.\tWrite a Python Program to Find HCF?"
   ]
  },
  {
   "cell_type": "code",
   "execution_count": 2,
   "id": "de728871",
   "metadata": {},
   "outputs": [
    {
     "name": "stdout",
     "output_type": "stream",
     "text": [
      "Enter the first number:23\n",
      "Enter the second number:12\n",
      "The H.C.F. is 1\n",
      "Want to find again? (y/n) :n\n"
     ]
    }
   ],
   "source": [
    "def compute_hcf(x, y):\n",
    "    if x > y:\n",
    "        smaller = y\n",
    "    else:\n",
    "        smaller = x\n",
    "    for i in range(1, smaller+1):\n",
    "        if((x % i == 0) and (y % i == 0)):\n",
    "            hcf = i \n",
    "    return hcf\n",
    "\n",
    "while True:\n",
    "    x =int(input(\"Enter the first number:\"))\n",
    "    y =int(input(\"Enter the second number:\"))\n",
    "    print(\"The H.C.F. is\", compute_hcf(x, y))\n",
    "    \n",
    "    find_again = input(\"Want to find again? (y/n) :\")\n",
    "    if find_again.lower() != \"y\":\n",
    "        break"
   ]
  },
  {
   "cell_type": "markdown",
   "id": "b1c6e8af",
   "metadata": {},
   "source": [
    "Q3.\tWrite a Python Program to Convert Decimal to Binary, Octal and Hexadecimal?"
   ]
  },
  {
   "cell_type": "code",
   "execution_count": null,
   "id": "613a4fea",
   "metadata": {},
   "outputs": [
    {
     "name": "stdout",
     "output_type": "stream",
     "text": [
      "what you want to find? [all, decimal-binary / db, decimal-octal / do, decimal-hexadecimal / dh] :40\n"
     ]
    }
   ],
   "source": [
    "# Python Program to Convert Decimal to Binary, Octal and Hexadecimal\n",
    "\n",
    "\n",
    "# function to convert decimal to binary  \n",
    "def decimal_into_binary(decimal_1):  \n",
    "    decimal = int(decimal_1)  \n",
    "    print (\"The given decimal number\", decimal, \"in Binary number is: \", bin(decimal))\n",
    "    \n",
    "# function to convert decimal to octal  \n",
    "def decimal_into_octal(decimal_1):  \n",
    "    decimal = int(decimal_1)  \n",
    "    print (\"The given decimal number\", decimal, \"in Octal number is: \", oct(decimal))  \n",
    "    \n",
    "    \n",
    "# function to convert decimal to hexadecimal  \n",
    "def decimal_into_hexadecimal(decimal_1):  \n",
    "    decimal = int(decimal_1) \n",
    "    print (\"The given decimal number\", decimal, \" in Hexadecimal number is: \", hex(decimal))  \n",
    "    \n",
    "\n",
    "while True:\n",
    "    what_toFind = input(\"what you want to find? [all, decimal-binary / db, decimal-octal / do, decimal-hexadecimal / dh] :\").lower()\n",
    "    decimal_1 = int (input (\" Enter the Decimal Number: \"))  \n",
    "    \n",
    "    if what_toFind == \"all\":\n",
    "        decimal_into_binary(decimal_1)  \n",
    "        decimal_into_octal(decimal_1)  \n",
    "        decimal_into_hexadecimal(decimal_1)  \n",
    "    elif what_toFind == \"decimal-binary\" or what_toFind == \"db\":\n",
    "        decimal_into_binary(decimal_1) \n",
    "    elif what_toFind == \"decimal-octal\" or what_toFind == \"do\":\n",
    "        decimal_into_octal(decimal_1)\n",
    "    elif what_toFind == \"decimal-hexadecimal\" or what_toFind ==\"dh\":\n",
    "        decimal_into_hexadecimal(decimal_1) \n",
    "    else:\n",
    "        print(\"Enter Valid Input\")\n",
    "        \n",
    "    find_again = input(\"Want to find again? (y/n) :\")\n",
    "    if find_again.lower() != \"y\":\n",
    "        break"
   ]
  },
  {
   "cell_type": "markdown",
   "id": "a850dc59",
   "metadata": {},
   "source": [
    "Q4.\tWrite a Python Program To Find ASCII value of a character?"
   ]
  },
  {
   "cell_type": "code",
   "execution_count": 6,
   "id": "97a72b6e",
   "metadata": {},
   "outputs": [
    {
     "name": "stdout",
     "output_type": "stream",
     "text": [
      "Enter a Character: y\n",
      "Ascii Character of y is 121\n",
      "Want to find again? (y/n) :y\n",
      "Enter a Character: $\n",
      "Ascii Character of $ is 36\n",
      "Want to find again? (y/n) :n\n"
     ]
    }
   ],
   "source": [
    "# Python Program To Find ASCII value of a character.\n",
    "\n",
    "\n",
    "def charToAscii():\n",
    "    if len(char) > 1:\n",
    "        print('Please Enter a Single Character')\n",
    "    else:\n",
    "        print(f'Ascii Character of {char} is {ord(char)}')\n",
    "\n",
    "while True:\n",
    "    char = input('Enter a Character: ')\n",
    "    charToAscii()\n",
    "    \n",
    "    find_again = input(\"Want to find again? (y/n) :\")\n",
    "    if find_again.lower() != \"y\":\n",
    "        break"
   ]
  },
  {
   "cell_type": "markdown",
   "id": "f57f5863",
   "metadata": {},
   "source": [
    "Q5.\tWrite a Python Program to Make a Simple Calculator with 4 basic mathematical operations?"
   ]
  },
  {
   "cell_type": "code",
   "execution_count": 7,
   "id": "946fce4f",
   "metadata": {},
   "outputs": [
    {
     "name": "stdout",
     "output_type": "stream",
     "text": [
      "enter your first number :4\n",
      "enter your ssecond number :6\n",
      "Select operation to calculate [add/1, subtract/2, multiply/3, divide/4] :2\n",
      "4.0 + 6.0 = 10.0\n",
      "want to calculate again? (y/n) :n\n"
     ]
    }
   ],
   "source": [
    "#  Python Program to Make a Simple Calculator with 4 basic mathematical operations?\n",
    "\n",
    "\n",
    " # Python Program to Make a Simple Calculator with 4 basic mathematical operations\n",
    "    \n",
    "\n",
    "def cal_operations():\n",
    "    if math_Operation == \"add\" or \"1\":\n",
    "        print(x, \"+\", y, \"=\", x+y)\n",
    "    elif math_Operation == \"subtract\" or \"2\":\n",
    "        print(x, \"-\", y, \"=\", x-y)\n",
    "    elif math_Operation == \"multiply\" or \"3\":\n",
    "        print(x, \"*\", y, \"=\", x*y)\n",
    "    elif math_Operation == \"divide\" or \"4\":\n",
    "        print(x, \"/\", y, \"=\", x/y)\n",
    "    else:\n",
    "        print(\"Enter Valid Input & try again!\")\n",
    "        \n",
    "        \n",
    "\n",
    "while True:\n",
    "    x = float(input(\"enter your first number :\"))\n",
    "    y = float(input(\"enter your ssecond number :\"))\n",
    "    \n",
    "    #select operation or its number to perform calculation.\n",
    "    math_Operation = input(\"Select operation to calculate [add/1, subtract/2, multiply/3, divide/4] :\").lower()\n",
    "    cal_operations()\n",
    "    \n",
    "    find_again = input(\"want to calculate again? (y/n) :\")\n",
    "    if find_again.lower() != \"y\":\n",
    "        break\n",
    "    "
   ]
  },
  {
   "cell_type": "code",
   "execution_count": null,
   "id": "af34a87e",
   "metadata": {},
   "outputs": [],
   "source": []
  }
 ],
 "metadata": {
  "kernelspec": {
   "display_name": "Python 3 (ipykernel)",
   "language": "python",
   "name": "python3"
  },
  "language_info": {
   "codemirror_mode": {
    "name": "ipython",
    "version": 3
   },
   "file_extension": ".py",
   "mimetype": "text/x-python",
   "name": "python",
   "nbconvert_exporter": "python",
   "pygments_lexer": "ipython3",
   "version": "3.11.5"
  }
 },
 "nbformat": 4,
 "nbformat_minor": 5
}
