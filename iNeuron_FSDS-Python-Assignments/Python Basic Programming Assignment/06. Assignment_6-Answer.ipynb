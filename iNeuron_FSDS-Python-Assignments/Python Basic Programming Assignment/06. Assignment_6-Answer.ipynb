{
 "cells": [
  {
   "cell_type": "markdown",
   "id": "cccae298",
   "metadata": {},
   "source": [
    "Q1. Write a Python Program to Display Fibonacci Sequence Using Recursion?"
   ]
  },
  {
   "cell_type": "code",
   "execution_count": 1,
   "id": "76b2b522",
   "metadata": {},
   "outputs": [
    {
     "name": "stdout",
     "output_type": "stream",
     "text": [
      "How many terms? 5\n",
      "Fibonacci sequence:\n",
      "0\n",
      "1\n",
      "1\n",
      "2\n",
      "3\n",
      "Want to find again? (y/n) :n\n"
     ]
    }
   ],
   "source": [
    "# Python Program to Display Fibonacci Sequence Using Recursion\n",
    "\n",
    "\n",
    "def fibo_SequRecur(n):  \n",
    "   if n <= 1:  \n",
    "       return n  \n",
    "   else:  \n",
    "       return(fibo_SequRecur(n-1) + fibo_SequRecur(n-2))\n",
    "    \n",
    "while True:\n",
    "    in_Terms = int(input(\"How many terms? \"))   \n",
    "    if in_Terms <= 0:  \n",
    "       print(\"Plese enter a positive number\")  \n",
    "    else:  \n",
    "       print(\"Fibonacci sequence:\")  \n",
    "       for i in range(in_Terms):  \n",
    "           print(fibo_SequRecur(i)) \n",
    "    \n",
    "    find_again = input(\"Want to find again? (y/n) :\")\n",
    "    if find_again.lower() != \"y\":\n",
    "        break"
   ]
  },
  {
   "cell_type": "markdown",
   "id": "15cbd9c2",
   "metadata": {},
   "source": [
    "Q2. Write a Python Program to Find Factorial of Number Using Recursion?"
   ]
  },
  {
   "cell_type": "code",
   "execution_count": 2,
   "id": "e8a439ab",
   "metadata": {},
   "outputs": [
    {
     "name": "stdout",
     "output_type": "stream",
     "text": [
      "Enter number22\n",
      "Factorial of  22 is v: 1124000727777607680000\n"
     ]
    }
   ],
   "source": [
    "#  Python Program to Find Factorial of Number Using Recursion\n",
    "\n",
    "def factorial_Num(n):   \n",
    "    if (n==1 or n==0):       \n",
    "        return 1\n",
    "    else:         \n",
    "        return (n * factorial_Num(n - 1)) \n",
    " \n",
    "while True:\n",
    "    num = int(input(\"Enter number\")); \n",
    "    print(\"Factorial of \",num, \"is v:\", factorial_Num(num))\n",
    "    \n",
    "    find_again = (\"Want to find again? (y/n) :\")\n",
    "    if find_again.lower() != \"y\":\n",
    "        break"
   ]
  },
  {
   "cell_type": "markdown",
   "id": "cabaa214",
   "metadata": {},
   "source": [
    "Q3. Write a Python Program to calculate your Body Mass Index?"
   ]
  },
  {
   "cell_type": "code",
   "execution_count": 3,
   "id": "79b361c8",
   "metadata": {},
   "outputs": [
    {
     "name": "stdout",
     "output_type": "stream",
     "text": [
      "Enter your Weight(kgs): 81\n",
      "Enter your Height(mts): 1.8\n",
      "Your're BMI is 25.0 and status is Overweight \n",
      "Want to Calculate BMI again? (y/n) :n\n"
     ]
    }
   ],
   "source": [
    "# Python Program to calculate your Body Mass Index (BMI).\n",
    "# racking your BMI is a useful way of checking if you’re maintaining a healthy weight. It’s calculated using a person's weight and height, using this formula: weight / height²\n",
    "# The resulting number indicates one of the following categories:\n",
    "# Underweight = less than 18.5\n",
    "# Normal = more or equal to 18.5 and less than 25\n",
    "# Overweight = more or equal to 25 and less than 30\n",
    "# Obesity = 30 or more\n",
    "\n",
    "\n",
    "def calculateBMI():\n",
    "    calc_bmi = weight/pow(height,2)\n",
    "    if (calc_bmi < 18.5):\n",
    "        status = 'Underweight'\n",
    "    elif (calc_bmi >= 18.5 and calc_bmi < 24.9):\n",
    "        status = 'Healthy'\n",
    "    elif (calc_bmi >= 24.9 and calc_bmi < 30):\n",
    "        status = 'Overweight'\n",
    "    elif (calc_bmi >=30):\n",
    "        status = 'Suffering from Obesity'\n",
    "    print(f'Your\\'re BMI is {calc_bmi} and status is {status} ')\n",
    "        \n",
    "while True:     \n",
    "    weight = eval(input('Enter your Weight(kgs): '))\n",
    "    height = eval(input('Enter your Height(mts): '))\n",
    "    calculateBMI()\n",
    "    \n",
    "    find_again = input(\"Want to Calculate BMI again? (y/n) :\")\n",
    "    if find_again.lower() != \"y\":\n",
    "        break"
   ]
  },
  {
   "cell_type": "markdown",
   "id": "0a82e46b",
   "metadata": {},
   "source": [
    "Q4. Write a Python Program to calculate the natural logarithm of any number?"
   ]
  },
  {
   "cell_type": "code",
   "execution_count": 4,
   "id": "cc44f585",
   "metadata": {},
   "outputs": [
    {
     "name": "stdout",
     "output_type": "stream",
     "text": [
      "Enter a Number:9\n",
      "The natural logarithm of 9 is 2.1972245773362196\n",
      "Wnat to calculate again? (y/n) :n\n"
     ]
    }
   ],
   "source": [
    "# Python Program to calculate the natural logarithm of any number\n",
    "\n",
    "\n",
    "import math\n",
    "\n",
    "\n",
    "def genNatLog():\n",
    "    print(\"The natural logarithm of\", num, \"is\", math.log(num))\n",
    "\n",
    "while True:\n",
    "    num = eval(input(\"Enter a Number:\"))\n",
    "    genNatLog()\n",
    "    \n",
    "    find_again = input(\"Wnat to calculate again? (y/n) :\")\n",
    "    if find_again.lower() != \"y\":\n",
    "        break"
   ]
  },
  {
   "cell_type": "markdown",
   "id": "1a4186be",
   "metadata": {},
   "source": [
    "Q5. Write a Python Program for cube sum of first n natural numbers?"
   ]
  },
  {
   "cell_type": "code",
   "execution_count": 5,
   "id": "d8150c21",
   "metadata": {},
   "outputs": [
    {
     "name": "stdout",
     "output_type": "stream",
     "text": [
      "Enter the no of Natural Numbers: 22\n",
      "The Cube Sum of First 22 Natural Numbers is 64009.0\n",
      "want to calculate again? (y/n) :y\n",
      "Enter the no of Natural Numbers: 9\n",
      "The Cube Sum of First 9 Natural Numbers is 2025.0\n",
      "want to calculate again? (y/n) :n\n"
     ]
    }
   ],
   "source": [
    "# Python Program for cube sum of first n natural numbers\n",
    "\n",
    "def cubeOfNaturalNumbers():\n",
    "    result = pow(((in_num * (in_num +1))/2),2)\n",
    "    print(f'The Cube Sum of First {in_num} Natural Numbers is {result}')\n",
    "    \n",
    "    \n",
    "while True:\n",
    "    in_num = int(input(\"Enter the no of Natural Numbers: \"))\n",
    "    cubeOfNaturalNumbers()\n",
    "    \n",
    "    find_again = input(\"want to calculate again? (y/n) :\")\n",
    "    if find_again.lower() != \"y\":\n",
    "        break"
   ]
  }
 ],
 "metadata": {
  "kernelspec": {
   "display_name": "Python 3 (ipykernel)",
   "language": "python",
   "name": "python3"
  },
  "language_info": {
   "codemirror_mode": {
    "name": "ipython",
    "version": 3
   },
   "file_extension": ".py",
   "mimetype": "text/x-python",
   "name": "python",
   "nbconvert_exporter": "python",
   "pygments_lexer": "ipython3",
   "version": "3.11.5"
  }
 },
 "nbformat": 4,
 "nbformat_minor": 5
}
