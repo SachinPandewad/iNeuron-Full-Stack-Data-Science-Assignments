{
 "cells": [
  {
   "cell_type": "markdown",
   "id": "69bf6980",
   "metadata": {},
   "source": [
    "Q1.\tWrite a Python Program to Add Two Matrices?"
   ]
  },
  {
   "cell_type": "code",
   "execution_count": 3,
   "id": "a595aac9",
   "metadata": {},
   "outputs": [
    {
     "name": "stdout",
     "output_type": "stream",
     "text": [
      "Enter the Number of rows : 2\n",
      "Enter the Number of Columns: 2\n",
      "Enter the elements of First Matrix:\n",
      "3\n",
      "2\n",
      "4\n",
      "5\n",
      "First Matrix is: \n",
      "[3, 2]\n",
      "[4, 5]\n",
      "Enter the elements of Second Matrix:\n",
      "6\n",
      "9\n",
      "8\n",
      "7\n",
      "[6, 9]\n",
      "[8, 7]\n",
      "The Sum of Above two Matrices is : \n",
      "[12, 24]\n",
      "[105, 93]\n",
      "Wnat to find again?(y/n) :n\n"
     ]
    }
   ],
   "source": [
    "# Python Program to Add Two Matrices\n",
    "\n",
    "def matrix_ab():\n",
    "    print(\"Enter the elements of First Matrix:\")\n",
    "    matrix_a= [[int(input()) for i in range(column)] for i in range(rows)]\n",
    "    print(\"First Matrix is: \")\n",
    "    for n in matrix_a:\n",
    "        print(n)\n",
    "\n",
    "    print(\"Enter the elements of Second Matrix:\")\n",
    "    matrix_b= [[int(input()) for i in range(column)] for i in range(rows)]\n",
    "    for n in matrix_b:\n",
    "        print(n)\n",
    "\n",
    "\n",
    "while True:        \n",
    "    rows = int(input(\"Enter the Number of rows : \" ))\n",
    "    column = int(input(\"Enter the Number of Columns: \"))\n",
    "    matrix_ab()\n",
    "\n",
    "    result=[[0 for i in range(column)] for i in range(rows)]\n",
    "\n",
    "    for i in range(rows):\n",
    "        for j in range(column):\n",
    "            result[i][j] = matrix_a[i][j] + matrix_b[i][j]\n",
    "\n",
    "    print(\"The Sum of Above two Matrices is : \")\n",
    "    for r in result:\n",
    "        print(r)\n",
    "\n",
    "    find_again = input(\"Wnat to find again?(y/n) :\")\n",
    "    if find_again.lower() != \"y\":\n",
    "        break"
   ]
  },
  {
   "cell_type": "markdown",
   "id": "77adc511",
   "metadata": {},
   "source": [
    "Q2. Write a Python Program to Multiply Two Matrices?"
   ]
  },
  {
   "cell_type": "code",
   "execution_count": 2,
   "id": "232f24c5",
   "metadata": {},
   "outputs": [
    {
     "name": "stdout",
     "output_type": "stream",
     "text": [
      "Enter the Number of rows : 2\n",
      "Enter the Number of Columns: 2\n",
      "Enter the elements of First Matrix:\n",
      "4\n",
      "3\n",
      "2\n",
      "5\n",
      "First Matrix is: \n",
      "[4, 3]\n",
      "[2, 5]\n",
      "Enter the elements of Second Matrix:\n",
      "9\n",
      "8\n",
      "7\n",
      "6\n",
      "[9, 8]\n",
      "[7, 6]\n",
      "The Multiplication of Above two Matrices is : \n",
      "[11, 44]\n",
      "[594, 440]\n",
      "Wnat to find again?(y/n) :n\n"
     ]
    }
   ],
   "source": [
    "#Python Program to Multiply Two Matrices\n",
    "\n",
    "def matrix_ab():\n",
    "    print(\"Enter the elements of First Matrix:\")\n",
    "    matrix_a= [[int(input()) for i in range(column)] for i in range(rows)]\n",
    "    print(\"First Matrix is: \")\n",
    "    for n in matrix_a:\n",
    "        print(n)\n",
    "\n",
    "    print(\"Enter the elements of Second Matrix:\")\n",
    "    matrix_b= [[int(input()) for i in range(column)] for i in range(rows)]\n",
    "    for n in matrix_b:\n",
    "        print(n)\n",
    "\n",
    "\n",
    "while True:        \n",
    "    rows = int(input(\"Enter the Number of rows : \" ))\n",
    "    column = int(input(\"Enter the Number of Columns: \"))\n",
    "    matrix_ab()\n",
    "\n",
    "    result=[[0 for i in range(column)] for i in range(rows)]\n",
    "\n",
    "    for i in range(rows):\n",
    "        for j in range(column):\n",
    "            result[i][j] = matrix_a[i][j] * matrix_b[i][j]\n",
    "\n",
    "    print(\"The Multiplication of Above two Matrices is : \")\n",
    "    for r in result:\n",
    "        print(r)\n",
    "\n",
    "    find_again = input(\"Wnat to find again?(y/n) :\")\n",
    "    if find_again.lower() != \"y\":\n",
    "        break"
   ]
  },
  {
   "cell_type": "markdown",
   "id": "3592feec",
   "metadata": {},
   "source": [
    "Q3.\tWrite a Python Program to Transpose a Matrix?"
   ]
  },
  {
   "cell_type": "code",
   "execution_count": 5,
   "id": "0d523923",
   "metadata": {},
   "outputs": [
    {
     "name": "stdout",
     "output_type": "stream",
     "text": [
      "Enter the Number of rows : 3\n",
      "Enter the Number of Columns: 3\n",
      "Enter the elements of Matrix:\n",
      "3\n",
      "2\n",
      "1\n",
      "4\n",
      "5\n",
      "6\n",
      "9\n",
      "8\n",
      "7\n",
      "Given User Matrix is: \n",
      "[3, 2, 1]\n",
      "[4, 5, 6]\n",
      "[9, 8, 7]\n",
      "The Transpose of Matrix is :\n",
      "[3, 4, 9]\n",
      "[2, 5, 8]\n",
      "[1, 6, 7]\n",
      "Wnat to find again?(y/n) :n\n"
     ]
    }
   ],
   "source": [
    "# Python Program to Transpose a Matrix\n",
    "\n",
    "def trans_Matrix():\n",
    "    print(\"Enter the elements of Matrix:\")\n",
    "    matrix_a= [[int(input()) for i in range(column)] for i in range(rows)]\n",
    "    print(\"Given User Matrix is: \")\n",
    "    for n in matrix_a:\n",
    "        print(n)\n",
    "    print(\"The Transpose of Matrix is :\")    \n",
    "    result = [[matrix_a[j][i] for j in range(len(matrix_a))] for i in range(len(matrix_a[0]))]\n",
    "    for r in result:\n",
    "        print(r)\n",
    "\n",
    "    \n",
    "\n",
    "\n",
    "\n",
    "while True:\n",
    "    rows = int(input(\"Enter the Number of rows : \" ))\n",
    "    column = int(input(\"Enter the Number of Columns: \"))\n",
    "    trans_Matrix()\n",
    "        \n",
    "    find_again = input(\"Wnat to find again?(y/n) :\")\n",
    "    if find_again.lower() != \"y\":\n",
    "        break"
   ]
  },
  {
   "cell_type": "markdown",
   "id": "8a97206a",
   "metadata": {},
   "source": [
    "Q4.\tWrite a Python Program to Sort Words in Alphabetic Order?"
   ]
  },
  {
   "cell_type": "code",
   "execution_count": 7,
   "id": "cb646f54",
   "metadata": {},
   "outputs": [
    {
     "name": "stdout",
     "output_type": "stream",
     "text": [
      "Enter a string: zomato is giving 40% discount on order above 799/-.\n",
      "The sorted words are:\n",
      "40%\n",
      "799/-.\n",
      "above\n",
      "discount\n",
      "giving\n",
      "is\n",
      "on\n",
      "order\n",
      "zomato\n",
      "Want to find again?(y/n) :n\n"
     ]
    }
   ],
   "source": [
    "# Python Program to Sort Words in Alphabetic Order\n",
    "\n",
    "def alfabetic_Order():\n",
    "    words = [word.lower() for word in my_str.split()]\n",
    "    words.sort()\n",
    "    print(\"The sorted words are:\")\n",
    "    for word in words:\n",
    "       print(word)\n",
    "\n",
    "while True:\n",
    "    my_str = input(\"Enter a string: \")\n",
    "    alfabetic_Order()\n",
    "    find_again = input(\"Want to find again?(y/n) :\")\n",
    "    if find_again.lower()  != \"y\":\n",
    "        break"
   ]
  },
  {
   "cell_type": "markdown",
   "id": "45b2118f",
   "metadata": {},
   "source": [
    "Q5.\tWrite a Python Program to Remove Punctuation From a String?"
   ]
  },
  {
   "cell_type": "code",
   "execution_count": 3,
   "id": "0f095485",
   "metadata": {},
   "outputs": [
    {
     "name": "stdout",
     "output_type": "stream",
     "text": [
      "Enter a String: Wel$^co*me To@ !Ind(^$ia.\n",
      "Welcome To India\n",
      "Want to find again?(y/n) :n\n"
     ]
    }
   ],
   "source": [
    "# Python Program to Remove Punctuation From a String\n",
    "\n",
    "def rem_Punctuatuions():\n",
    "    punctuations = '''!()-[]{};:'\"\\,<>./?@#$%^&*_~'''\n",
    "    out_string = ''\n",
    "    for ele in my_Str:\n",
    "        if ele not in punctuations:\n",
    "            out_string += ele\n",
    "    print(out_string)\n",
    "\n",
    "\n",
    "while True:\n",
    "    my_Str = input('Enter a String: ')\n",
    "    rem_Punctuatuions()\n",
    "        \n",
    "    find_again = input(\"Want to find again?(y/n) :\")\n",
    "    if find_again.lower() != \"y\":\n",
    "        break"
   ]
  },
  {
   "cell_type": "code",
   "execution_count": null,
   "id": "cf430307",
   "metadata": {},
   "outputs": [],
   "source": []
  }
 ],
 "metadata": {
  "kernelspec": {
   "display_name": "Python 3 (ipykernel)",
   "language": "python",
   "name": "python3"
  },
  "language_info": {
   "codemirror_mode": {
    "name": "ipython",
    "version": 3
   },
   "file_extension": ".py",
   "mimetype": "text/x-python",
   "name": "python",
   "nbconvert_exporter": "python",
   "pygments_lexer": "ipython3",
   "version": "3.11.5"
  }
 },
 "nbformat": 4,
 "nbformat_minor": 5
}
