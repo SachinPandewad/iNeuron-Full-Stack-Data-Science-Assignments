{
 "cells": [
  {
   "cell_type": "markdown",
   "id": "00f28b1c",
   "metadata": {},
   "source": [
    "Q1. Write a Python program to convert kilometers to miles?"
   ]
  },
  {
   "cell_type": "code",
   "execution_count": 1,
   "id": "6bbe027e",
   "metadata": {},
   "outputs": [
    {
     "name": "stdout",
     "output_type": "stream",
     "text": [
      "Enter Value of Kilometers20\n",
      "20.0 Kilometers equals to 12.42742 miles.\n",
      "Want to find again? (y/n): y\n",
      "Enter Value of Kilometers30\n",
      "30.0 Kilometers equals to 18.64113 miles.\n",
      "Want to find again? (y/n): n\n"
     ]
    }
   ],
   "source": [
    "# Python program to convert kilometers to miles\n",
    "\n",
    "while True:    \n",
    "    val_KM = float(input(\"Enter Value of Kilometers\"))\n",
    "\n",
    "    conversion_Val = 0.621371\n",
    "\n",
    "    miles = (val_KM * conversion_Val)\n",
    "    \n",
    "    print(val_KM, \"Kilometers equals to\", miles, \"miles.\")\n",
    "    \n",
    "    find_again = input(\"Want to find again? (y/n): \")\n",
    "    if find_again.lower() != \"y\":\n",
    "        break"
   ]
  },
  {
   "cell_type": "markdown",
   "id": "10bb080c",
   "metadata": {},
   "source": [
    "Q2. Write a Python program to convert Celsius to Fahrenheit?"
   ]
  },
  {
   "cell_type": "code",
   "execution_count": 2,
   "id": "247edb53",
   "metadata": {},
   "outputs": [
    {
     "name": "stdout",
     "output_type": "stream",
     "text": [
      "Enter temp in Celsies: 22\n",
      "22.0 Celisus equals to 71.6 Fahrenheit\n",
      "Want to Convert again? (y/n): y\n",
      "Enter temp in Celsies: 40\n",
      "40.0 Celisus equals to 104.0 Fahrenheit\n",
      "Want to Convert again? (y/n): n\n"
     ]
    }
   ],
   "source": [
    "# Python program to convert Celsius to Fahrenheit\n",
    "\n",
    "while True:\n",
    "    val_Celsius = float(input(\"Enter temp in Celsies: \"))\n",
    "    \n",
    "    conv_to_Fahrenheit = ((val_Celsius *(9/5)) + 32)\n",
    "    \n",
    "    print(val_Celsius, \"Celisus equals to\", conv_to_Fahrenheit, \"Fahrenheit\")\n",
    "    \n",
    "    find_again = input(\"Want to Convert again? (y/n): \")\n",
    "    if find_again.lower() != \"y\":\n",
    "        break"
   ]
  },
  {
   "cell_type": "markdown",
   "id": "84cad1f5",
   "metadata": {},
   "source": [
    "Q3. Write a Python program to display calendar?"
   ]
  },
  {
   "cell_type": "code",
   "execution_count": 3,
   "id": "7b938083",
   "metadata": {},
   "outputs": [
    {
     "name": "stdout",
     "output_type": "stream",
     "text": [
      "What to display? a.Calender Only requirre Month of Year OR b. Full Year Calendar [a, b] :a\n",
      "Enter year: 1995\n",
      "Enter month: 7\n",
      "     July 1995\n",
      "Mo Tu We Th Fr Sa Su\n",
      "                1  2\n",
      " 3  4  5  6  7  8  9\n",
      "10 11 12 13 14 15 16\n",
      "17 18 19 20 21 22 23\n",
      "24 25 26 27 28 29 30\n",
      "31\n",
      "\n",
      "Want to find again? (y/n): y\n",
      "What to display? a.Calender Only requirre Month of Year OR b. Full Year Calendar [a, b] :b\n",
      "Enter calender year: 2023\n",
      "                                  2023\n",
      "\n",
      "      January                   February                   March\n",
      "Mo Tu We Th Fr Sa Su      Mo Tu We Th Fr Sa Su      Mo Tu We Th Fr Sa Su\n",
      "                   1             1  2  3  4  5             1  2  3  4  5\n",
      " 2  3  4  5  6  7  8       6  7  8  9 10 11 12       6  7  8  9 10 11 12\n",
      " 9 10 11 12 13 14 15      13 14 15 16 17 18 19      13 14 15 16 17 18 19\n",
      "16 17 18 19 20 21 22      20 21 22 23 24 25 26      20 21 22 23 24 25 26\n",
      "23 24 25 26 27 28 29      27 28                     27 28 29 30 31\n",
      "30 31\n",
      "\n",
      "       April                      May                       June\n",
      "Mo Tu We Th Fr Sa Su      Mo Tu We Th Fr Sa Su      Mo Tu We Th Fr Sa Su\n",
      "                1  2       1  2  3  4  5  6  7                1  2  3  4\n",
      " 3  4  5  6  7  8  9       8  9 10 11 12 13 14       5  6  7  8  9 10 11\n",
      "10 11 12 13 14 15 16      15 16 17 18 19 20 21      12 13 14 15 16 17 18\n",
      "17 18 19 20 21 22 23      22 23 24 25 26 27 28      19 20 21 22 23 24 25\n",
      "24 25 26 27 28 29 30      29 30 31                  26 27 28 29 30\n",
      "\n",
      "        July                     August                  September\n",
      "Mo Tu We Th Fr Sa Su      Mo Tu We Th Fr Sa Su      Mo Tu We Th Fr Sa Su\n",
      "                1  2          1  2  3  4  5  6                   1  2  3\n",
      " 3  4  5  6  7  8  9       7  8  9 10 11 12 13       4  5  6  7  8  9 10\n",
      "10 11 12 13 14 15 16      14 15 16 17 18 19 20      11 12 13 14 15 16 17\n",
      "17 18 19 20 21 22 23      21 22 23 24 25 26 27      18 19 20 21 22 23 24\n",
      "24 25 26 27 28 29 30      28 29 30 31               25 26 27 28 29 30\n",
      "31\n",
      "\n",
      "      October                   November                  December\n",
      "Mo Tu We Th Fr Sa Su      Mo Tu We Th Fr Sa Su      Mo Tu We Th Fr Sa Su\n",
      "                   1             1  2  3  4  5                   1  2  3\n",
      " 2  3  4  5  6  7  8       6  7  8  9 10 11 12       4  5  6  7  8  9 10\n",
      " 9 10 11 12 13 14 15      13 14 15 16 17 18 19      11 12 13 14 15 16 17\n",
      "16 17 18 19 20 21 22      20 21 22 23 24 25 26      18 19 20 21 22 23 24\n",
      "23 24 25 26 27 28 29      27 28 29 30               25 26 27 28 29 30 31\n",
      "30 31\n",
      "\n",
      "Want to find again? (y/n): n\n"
     ]
    }
   ],
   "source": [
    "# Python program to display calendar\n",
    "# Displaying calender 1. only required month of year.  2. full year calender. By TAking User Input\n",
    "\n",
    "import calendar\n",
    "\n",
    "def showCalendarofYear(): #Full Year Calender\n",
    "    year = int(input(\"Enter calender year: \"))\n",
    "    print(calendar.calendar(year))\n",
    "    \n",
    "def showCalendarofMonth(): #Calendar for only required month of year\n",
    "    yy = int(input(\"Enter year: \"))\n",
    "    mm = int(input(\"Enter month: \"))\n",
    "    print(calendar.month(yy, mm))\n",
    "\n",
    "while True:\n",
    "    user_input = input(\"What to display? a.Calender Only requirre Month of Year OR b. Full Year Calendar [a, b] :\")\n",
    "    \n",
    "    if user_input == \"a\":\n",
    "        showCalendarofMonth()\n",
    "        \n",
    "    elif user_input == \"b\":\n",
    "        showCalendarofYear()\n",
    "    \n",
    "    else:\n",
    "        print(\"Input Error; Enter Again! \")\n",
    "\n",
    "    find_again = input(\"Want to find again? (y/n): \")\n",
    "    if find_again.lower() != \"y\":\n",
    "        break"
   ]
  },
  {
   "cell_type": "markdown",
   "id": "6f2ad343",
   "metadata": {},
   "source": [
    "Q4. Write a Python program to solve quadratic equation?"
   ]
  },
  {
   "cell_type": "code",
   "execution_count": 4,
   "id": "063fc412",
   "metadata": {},
   "outputs": [
    {
     "name": "stdout",
     "output_type": "stream",
     "text": [
      "Enter a value: 2\n",
      "Enter b value: 1\n",
      "Enter c value: 3\n",
      "The solution are (-0.25-1.1989578808281798j) and (-0.25+1.1989578808281798j)\n",
      "Want to find again? (y/n): n\n"
     ]
    }
   ],
   "source": [
    "# Python program to solve quadratic equation\n",
    "\n",
    "import cmath\n",
    "\n",
    "while True:\n",
    "    a = int(input('Enter a value: '))\n",
    "    b = int(input('Enter b value: '))\n",
    "    c = int(input('Enter c value: '))\n",
    "\n",
    "    discriminant  = (b**2) - (4*a*c)\n",
    "\n",
    "\n",
    "    sol1 = (-b-cmath.sqrt(discriminant))/(2*a)\n",
    "    sol2 = (-b+cmath.sqrt(discriminant))/(2*a)\n",
    "\n",
    "    print(\"The solution are {0} and {1}\".format(sol1,sol2))\n",
    "    \n",
    "    find_again = input(\"Want to find again? (y/n): \")\n",
    "    if find_again.lower() != \"y\":\n",
    "        break"
   ]
  },
  {
   "cell_type": "markdown",
   "id": "027f6c4d",
   "metadata": {},
   "source": [
    "Q5. Write a Python program to swap two variables without temp variable?"
   ]
  },
  {
   "cell_type": "code",
   "execution_count": 5,
   "id": "3d6e74c6",
   "metadata": {},
   "outputs": [
    {
     "name": "stdout",
     "output_type": "stream",
     "text": [
      "Enter value of x: 30\n",
      "Enter value of y: 50\n",
      "The value of x after swapping: 50\n",
      "The value of y after swapping: 30\n",
      "Want to find again? (y/n): n\n"
     ]
    }
   ],
   "source": [
    "# Python program to swap two variables\n",
    "\n",
    "while True:\n",
    "    # inputs from the user\n",
    "    x = input('Enter value of x: ')\n",
    "    y = input('Enter value of y: ')\n",
    "\n",
    "    # creating a temporary variable and swap the values\n",
    "    temp = x\n",
    "    x = y\n",
    "    y = temp\n",
    "\n",
    "    print('The value of x after swapping: {}'.format(x))\n",
    "    print('The value of y after swapping: {}'.format(y))\n",
    "    \n",
    "    find_again = input(\"Want to find again? (y/n): \")\n",
    "    if find_again.lower() != \"y\":\n",
    "        break"
   ]
  }
 ],
 "metadata": {
  "kernelspec": {
   "display_name": "Python 3 (ipykernel)",
   "language": "python",
   "name": "python3"
  },
  "language_info": {
   "codemirror_mode": {
    "name": "ipython",
    "version": 3
   },
   "file_extension": ".py",
   "mimetype": "text/x-python",
   "name": "python",
   "nbconvert_exporter": "python",
   "pygments_lexer": "ipython3",
   "version": "3.11.5"
  }
 },
 "nbformat": 4,
 "nbformat_minor": 5
}
