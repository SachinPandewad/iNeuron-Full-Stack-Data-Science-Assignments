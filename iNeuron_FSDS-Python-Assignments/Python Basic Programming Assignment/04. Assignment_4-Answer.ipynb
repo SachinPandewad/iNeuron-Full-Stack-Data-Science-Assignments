{
 "cells": [
  {
   "cell_type": "markdown",
   "id": "f5cfb7bc",
   "metadata": {},
   "source": [
    "Q1. Write a Python Program to Find the Factorial of a Number?"
   ]
  },
  {
   "cell_type": "code",
   "execution_count": 4,
   "id": "374fe9f5",
   "metadata": {},
   "outputs": [
    {
     "name": "stdout",
     "output_type": "stream",
     "text": [
      "Enter your Number :7\n",
      "Factorial of 7 is 5040\n",
      "Want to find again? (y/n) :y\n",
      "Enter your Number :8\n",
      "Factorial of 8 is 40320\n",
      "Want to find again? (y/n) :n\n"
     ]
    }
   ],
   "source": [
    "#  Python Program to Find the Factorial of a Number\n",
    "\n",
    "\n",
    "def factorial(n):\n",
    "    return 1 if (n==1 or n==0) else n * factorial(n - 1) \n",
    "\n",
    "while True:\n",
    "    num = int(input(\"Enter your Number :\"))\n",
    "    print(\"Factorial of\",num,\"is\",factorial(num))\n",
    "    \n",
    "    find_again = input(\"Want to find again? (y/n) :\")\n",
    "    if find_again.lower() != \"y\":\n",
    "        break"
   ]
  },
  {
   "cell_type": "markdown",
   "id": "11bb9b7f",
   "metadata": {},
   "source": [
    "Q2. Write a Python Program to Display the multiplication Table?"
   ]
  },
  {
   "cell_type": "code",
   "execution_count": 1,
   "id": "374f8087",
   "metadata": {},
   "outputs": [
    {
     "name": "stdout",
     "output_type": "stream",
     "text": [
      "Enter the Number :14\n",
      "14 Multiplication Table is\n",
      "14 x 1 = 14\n",
      "14 x 2 = 28\n",
      "14 x 3 = 42\n",
      "14 x 4 = 56\n",
      "14 x 5 = 70\n",
      "14 x 6 = 84\n",
      "14 x 7 = 98\n",
      "14 x 8 = 112\n",
      "14 x 9 = 126\n",
      "14 x 10 = 140\n",
      "None\n",
      "Want to find Again? (y/n) :n\n"
     ]
    }
   ],
   "source": [
    "#  Python Program to Display the multiplication Table\n",
    "\n",
    "def multi_table(num):\n",
    "    for i in range(1, 11):\n",
    "        print(num, 'x', i, '=', num*i)\n",
    "\n",
    "while True:\n",
    "    num = int(input(\"Enter the Number :\"))\n",
    "    print(num, \"Multiplication Table is\")\n",
    "    print(multi_table(num))\n",
    "    \n",
    "    find_again = input(\"Want to find Again? (y/n) :\")\n",
    "    if find_again.lower() != \"y\":\n",
    "        break"
   ]
  },
  {
   "cell_type": "markdown",
   "id": "4202cbca",
   "metadata": {},
   "source": [
    "Q3. Write a Python Program to Print the Fibonacci sequence?"
   ]
  },
  {
   "cell_type": "code",
   "execution_count": 1,
   "id": "00b6d1d7",
   "metadata": {},
   "outputs": [
    {
     "name": "stdout",
     "output_type": "stream",
     "text": [
      "How many terms the user wants to print? 5\n",
      "The fibonacci sequence of the numbers is:\n",
      "0\n",
      "1\n",
      "1\n",
      "2\n",
      "3\n",
      "Want to find Again? (y/n) :n\n"
     ]
    }
   ],
   "source": [
    "# Python Program to Print the Fibonacci sequence\n",
    "\n",
    "\n",
    "def seq_Fibonacci():\n",
    "    n_1 = 0  \n",
    "    n_2 = 1  \n",
    "    count = 0 \n",
    "    if n_terms <= 0:  \n",
    "        print (\"Please enter a positive integer, the given number is not valid\")  \n",
    "\n",
    "    elif n_terms == 1:  \n",
    "        print (\"The Fibonacci sequence of the numbers up to\", n_terms, \": \")  \n",
    "        print(n_1)  \n",
    "\n",
    "    else:  \n",
    "        print (\"The fibonacci sequence of the numbers is:\")  \n",
    "        while count < n_terms:  \n",
    "            print(n_1)  \n",
    "            nth = n_1 + n_2  \n",
    "            n_1 = n_2  \n",
    "            n_2 = nth  \n",
    "            count += 1 \n",
    "            \n",
    "while True:\n",
    "    n_terms = int(input (\"How many terms the user wants to print? \"))\n",
    "    seq_Fibonacci()\n",
    "    find_again = input(\"Want to find Again? (y/n) :\")\n",
    "    if find_again.lower() != \"y\":\n",
    "        break"
   ]
  },
  {
   "cell_type": "markdown",
   "id": "91445755",
   "metadata": {},
   "source": [
    "Q4. Write a Python Program to Check Armstrong Number?"
   ]
  },
  {
   "cell_type": "code",
   "execution_count": 2,
   "id": "debda5c4",
   "metadata": {},
   "outputs": [
    {
     "name": "stdout",
     "output_type": "stream",
     "text": [
      "Enter a number: 153\n",
      "153 is an Armstrong number\n",
      "Want to find again? (y/n) :y\n",
      "Enter a number: 653\n",
      "653 is not an Armstrong number\n",
      "Want to find again? (y/n) :n\n"
     ]
    }
   ],
   "source": [
    "# Python Program to Check Armstrong Number\n",
    "\n",
    "def  armstrong_Number():\n",
    "    sum = 0\n",
    "    temp = num\n",
    "    while temp > 0:\n",
    "       digit = temp % 10\n",
    "       sum += digit ** 3\n",
    "       temp //= 10\n",
    "\n",
    "    if num == sum:\n",
    "       print(num,\"is an Armstrong number\")\n",
    "    else:\n",
    "       print(num,\"is not an Armstrong number\")\n",
    "    \n",
    "while True:\n",
    "    num = int(input(\"Enter a number: \"))\n",
    "    armstrong_Number()\n",
    "    \n",
    "    find_again = input(\"Want to find again? (y/n) :\")\n",
    "    if find_again.lower() != \"y\":\n",
    "        break\n"
   ]
  },
  {
   "cell_type": "markdown",
   "id": "bf80e648",
   "metadata": {},
   "source": [
    "Q5. Write a Python Program to Find Armstrong Number in an Interval?"
   ]
  },
  {
   "cell_type": "code",
   "execution_count": 3,
   "id": "4480c39f",
   "metadata": {},
   "outputs": [
    {
     "name": "stdout",
     "output_type": "stream",
     "text": [
      "Enter lower range :5\n",
      "Enter upper range :100\n",
      "Armstrong numbers in 5 to 100  interval are :\n",
      "5\n",
      "6\n",
      "7\n",
      "8\n",
      "9\n",
      "Wnat to find again? (y/n) :n\n"
     ]
    }
   ],
   "source": [
    "#  Python Program to Find Armstrong Number in an Interval\n",
    "\n",
    "def armstrong_NumInterval():\n",
    "    for num in range(lower_range, upper_range + 1):\n",
    "       order = len(str(num))\n",
    "       sum = 0\n",
    "       temp = num\n",
    "       while temp > 0:\n",
    "           digit = temp % 10\n",
    "           sum += digit ** order\n",
    "           temp //= 10\n",
    "\n",
    "       if num == sum:\n",
    "           print(num)\n",
    "            \n",
    "while True:\n",
    "    lower_range = int(input(\"Enter lower range :\"))\n",
    "    upper_range = int(input(\"Enter upper range :\"))\n",
    "    print(\"Armstrong numbers in\", lower_range, \"to\", upper_range,\" interval are :\")\n",
    "    armstrong_NumInterval()\n",
    "    \n",
    "    find_again = input(\"Wnat to find again? (y/n) :\")\n",
    "    if find_again.lower() != \"y\":\n",
    "        break"
   ]
  },
  {
   "cell_type": "markdown",
   "id": "d858443c",
   "metadata": {},
   "source": [
    "Q6. Write a Python Program to Find the Sum of Natural Numbers?"
   ]
  },
  {
   "cell_type": "code",
   "execution_count": 4,
   "id": "b62ac379",
   "metadata": {},
   "outputs": [
    {
     "name": "stdout",
     "output_type": "stream",
     "text": [
      "Enter Natural number :37\n",
      "The sum is 703\n",
      "Want to find again? (y/n) :y\n",
      "Enter Natural number :41\n",
      "The sum is 861\n",
      "Want to find again? (y/n) :n\n"
     ]
    }
   ],
   "source": [
    "# Python Program to Find the Sum of Natural Numbers\n",
    "\n",
    "\n",
    "def sum_NaturalNo(num):\n",
    "    if num < 0:\n",
    "       print(\"Enter a positive number\")\n",
    "    else:\n",
    "       sum = 0\n",
    "       while(num > 0):\n",
    "           sum += num\n",
    "           num -= 1\n",
    "       print(\"The sum is\", sum)\n",
    "    \n",
    "while True:\n",
    "    num = int(input(\"Enter Natural number :\"))\n",
    "    sum_NaturalNo(num)\n",
    "    \n",
    "    find_again = input(\"Want to find again? (y/n) :\")\n",
    "    if find_again.lower() != \"y\":\n",
    "        break"
   ]
  },
  {
   "cell_type": "code",
   "execution_count": null,
   "id": "a59946ca",
   "metadata": {},
   "outputs": [],
   "source": []
  }
 ],
 "metadata": {
  "kernelspec": {
   "display_name": "Python 3 (ipykernel)",
   "language": "python",
   "name": "python3"
  },
  "language_info": {
   "codemirror_mode": {
    "name": "ipython",
    "version": 3
   },
   "file_extension": ".py",
   "mimetype": "text/x-python",
   "name": "python",
   "nbconvert_exporter": "python",
   "pygments_lexer": "ipython3",
   "version": "3.11.5"
  }
 },
 "nbformat": 4,
 "nbformat_minor": 5
}
